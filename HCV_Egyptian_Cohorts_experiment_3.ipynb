{
 "cells": [
  {
   "cell_type": "markdown",
   "metadata": {},
   "source": [
    "# Applying Machine Learning to a Hepatitis C Egyptian Cohort Dataset for Predicting the Disease Stage - Experiment 3"
   ]
  },
  {
   "cell_type": "markdown",
   "metadata": {},
   "source": [
    "### two-class prediction - fibrosis vs. cirrhosis (<font color=\"red\">no F1 and F2; F3=3 and F4=4</font>)"
   ]
  },
  {
   "cell_type": "code",
   "execution_count": 1,
   "metadata": {},
   "outputs": [],
   "source": [
    "import import_ipynb"
   ]
  },
  {
   "cell_type": "code",
   "execution_count": 2,
   "metadata": {},
   "outputs": [
    {
     "name": "stdout",
     "output_type": "stream",
     "text": [
      "importing Jupyter notebook from CommonUtilsHCV.ipynb\n"
     ]
    }
   ],
   "source": [
    "from CommonUtilsHCV import *"
   ]
  },
  {
   "cell_type": "code",
   "execution_count": 3,
   "metadata": {},
   "outputs": [
    {
     "name": "stdout",
     "output_type": "stream",
     "text": [
      "Aravind..\n"
     ]
    }
   ],
   "source": [
    "test_v(\"Aravind..\")"
   ]
  },
  {
   "cell_type": "markdown",
   "metadata": {},
   "source": [
    "#### Dataset downloaded from https://archive.ics.uci.edu/ml/machine-learning-databases/00503/"
   ]
  },
  {
   "cell_type": "code",
   "execution_count": 4,
   "metadata": {},
   "outputs": [],
   "source": [
    "data = pd.read_excel(r\"HCV_Egy_data_for_loading.xlsx\")"
   ]
  },
  {
   "cell_type": "code",
   "execution_count": 5,
   "metadata": {},
   "outputs": [
    {
     "name": "stdout",
     "output_type": "stream",
     "text": [
      "number of observations in data:   (1385, 29)\n"
     ]
    }
   ],
   "source": [
    "print(\"number of observations in data:\", \" \", data.shape)"
   ]
  },
  {
   "cell_type": "code",
   "execution_count": 6,
   "metadata": {},
   "outputs": [
    {
     "data": {
      "text/plain": [
       "1    336\n",
       "2    332\n",
       "3    355\n",
       "4    362\n",
       "Name: BHS, dtype: int64"
      ]
     },
     "execution_count": 6,
     "metadata": {},
     "output_type": "execute_result"
    }
   ],
   "source": [
    "data[\"BHS\"].value_counts(sort=0)"
   ]
  },
  {
   "cell_type": "code",
   "execution_count": 7,
   "metadata": {},
   "outputs": [],
   "source": [
    "# binary classification\n",
    "data_tmp = data.loc[data[\"BHS\"] >= 3]"
   ]
  },
  {
   "cell_type": "code",
   "execution_count": 8,
   "metadata": {},
   "outputs": [
    {
     "data": {
      "text/plain": [
       "3    355\n",
       "4    362\n",
       "Name: BHS, dtype: int64"
      ]
     },
     "execution_count": 8,
     "metadata": {},
     "output_type": "execute_result"
    }
   ],
   "source": [
    "data_tmp[\"BHS\"].value_counts(sort=0)"
   ]
  },
  {
   "cell_type": "code",
   "execution_count": 9,
   "metadata": {},
   "outputs": [],
   "source": [
    "# Split data for training and testing\n",
    "data_lists = []\n",
    "X,y = standard_scaler(dataframe=data_tmp)\n",
    "X_train, X_test, y_train, y_test = train_test_split(X, y, test_size=0.30, random_state=20)\n",
    "\n",
    "data_lists = [X_train, y_train, X_test, y_test]\n",
    "label_names = y_train.unique()"
   ]
  },
  {
   "cell_type": "code",
   "execution_count": 10,
   "metadata": {},
   "outputs": [
    {
     "name": "stdout",
     "output_type": "stream",
     "text": [
      "Running LR model\n",
      "*********** Logistic Regression ********\n",
      "Accuracy Score: 0.5462962962962963\n",
      "Confusion Matrix : \n",
      " [[55 51]\n",
      " [47 63]]\n",
      "Accuracy :  0.5462962962962963\n",
      "Sensitivity :  0.5188679245283019\n",
      "Specificity :  0.5727272727272728\n",
      "ROC AUC score :  0.5457975986277873\n",
      "*********** ****************** ********************\n",
      "Running NB model\n",
      "Running DT model\n",
      "*********** Decision Tree ********\n",
      "Accuracy Score: 0.5277777777777778\n",
      "Confusion Matrix : \n",
      " [[54 52]\n",
      " [50 60]]\n",
      "Accuracy :  0.5277777777777778\n",
      "Sensitivity :  0.5094339622641509\n",
      "Specificity :  0.5454545454545454\n",
      "ROC AUC score :  0.5274442538593482\n",
      "*********** ****************** ********************\n",
      "Running RF model\n",
      "*********** Random Forest ********\n",
      "Accuracy Score: 0.5509259259259259\n",
      "Confusion Matrix : \n",
      " [[56 50]\n",
      " [47 63]]\n",
      "Accuracy :  0.5509259259259259\n",
      "Sensitivity :  0.5283018867924528\n",
      "Specificity :  0.5727272727272728\n",
      "ROC AUC score :  0.5505145797598627\n",
      "*********** ****************** ********************\n",
      "Running XGB model\n",
      "*********** XGBoost ********\n",
      "Accuracy Score: 0.4444444444444444\n",
      "Confusion Matrix : \n",
      " [[47 59]\n",
      " [61 49]]\n",
      "Accuracy :  0.4444444444444444\n",
      "Sensitivity :  0.44339622641509435\n",
      "Specificity :  0.44545454545454544\n",
      "ROC AUC score :  0.44442538593481984\n",
      "*********** ****************** ********************\n",
      "Running kNN model\n"
     ]
    },
    {
     "name": "stderr",
     "output_type": "stream",
     "text": [
      "/opt/anaconda3/lib/python3.7/site-packages/sklearn/model_selection/_search.py:814: DeprecationWarning: The default of the `iid` parameter will change from True to False in version 0.22 and will be removed in 0.24. This will change numeric results when test-set sizes are unequal.\n",
      "  DeprecationWarning)\n"
     ]
    },
    {
     "name": "stdout",
     "output_type": "stream",
     "text": [
      "*********** k Nearest Neighbor ********\n",
      "Accuracy Score: 0.5138888888888888\n",
      "Confusion Matrix : \n",
      " [[51 55]\n",
      " [50 60]]\n",
      "Accuracy :  0.5138888888888888\n",
      "Sensitivity :  0.4811320754716981\n",
      "Specificity :  0.5454545454545454\n",
      "ROC AUC score :  0.5132933104631218\n",
      "*********** ****************** ********************\n",
      "Running SVM model\n"
     ]
    },
    {
     "name": "stderr",
     "output_type": "stream",
     "text": [
      "/opt/anaconda3/lib/python3.7/site-packages/sklearn/model_selection/_search.py:814: DeprecationWarning: The default of the `iid` parameter will change from True to False in version 0.22 and will be removed in 0.24. This will change numeric results when test-set sizes are unequal.\n",
      "  DeprecationWarning)\n"
     ]
    },
    {
     "name": "stdout",
     "output_type": "stream",
     "text": [
      "*********** Support Vector Machine ********\n",
      "Accuracy Score: 0.5185185185185185\n",
      "Confusion Matrix : \n",
      " [[54 52]\n",
      " [52 58]]\n",
      "Accuracy :  0.5185185185185185\n",
      "Sensitivity :  0.5094339622641509\n",
      "Specificity :  0.5272727272727272\n",
      "ROC AUC score :  0.5183533447684391\n",
      "*********** ****************** ********************\n",
      "Running NN model\n",
      "*********** Neural Network ********\n",
      "Accuracy Score: 0.5370370370370371\n",
      "Confusion Matrix : \n",
      " [[42 64]\n",
      " [36 74]]\n",
      "Accuracy :  0.5370370370370371\n",
      "Sensitivity :  0.39622641509433965\n",
      "Specificity :  0.6727272727272727\n",
      "ROC AUC score :  0.5344768439108062\n",
      "*********** ****************** ********************\n",
      "Got the result\n"
     ]
    }
   ],
   "source": [
    "models_result = get_all_the_best_values(data_lists=data_lists)"
   ]
  },
  {
   "cell_type": "code",
   "execution_count": null,
   "metadata": {},
   "outputs": [],
   "source": []
  },
  {
   "cell_type": "code",
   "execution_count": null,
   "metadata": {},
   "outputs": [],
   "source": [
    "from sklearn.ensemble import VotingClassifier\n",
    "#create a dictionary of the models\n",
    "estimators=[(‘knn’, knn_best), (‘rf’, rf_best), (‘log_reg’, log_reg)]\n",
    "#create our voting classifier, inputting our models\n",
    "ensemble = VotingClassifier(estimators, voting=’hard’)"
   ]
  },
  {
   "cell_type": "code",
   "execution_count": null,
   "metadata": {},
   "outputs": [],
   "source": []
  },
  {
   "cell_type": "code",
   "execution_count": null,
   "metadata": {},
   "outputs": [],
   "source": []
  },
  {
   "cell_type": "markdown",
   "metadata": {},
   "source": [
    "#### Stratified AST - below 74; Predicting with two-class variables ( <font color=\"red\">delete F1 and F2; F3 = 3, F4 = 4</font>) with Age, BMI, AST1, ALT1, Plat and WBC - Fibrosis vs. Cirrhosis"
   ]
  },
  {
   "cell_type": "code",
   "execution_count": 15,
   "metadata": {},
   "outputs": [],
   "source": [
    "data_tmp = data.loc[data[\"AST1\"] < 74]\n",
    "data_tmp = data_tmp.loc[data[\"BHS\"] >= 3]"
   ]
  },
  {
   "cell_type": "code",
   "execution_count": 16,
   "metadata": {},
   "outputs": [
    {
     "data": {
      "text/plain": [
       "3    141\n",
       "4    156\n",
       "Name: BHS, dtype: int64"
      ]
     },
     "execution_count": 16,
     "metadata": {},
     "output_type": "execute_result"
    }
   ],
   "source": [
    "data_tmp[\"BHS\"].value_counts(sort=0)"
   ]
  },
  {
   "cell_type": "code",
   "execution_count": 17,
   "metadata": {},
   "outputs": [],
   "source": [
    "# Split data for training and testing\n",
    "data_lists = []\n",
    "X,y = standard_scaler(dataframe=data_tmp)\n",
    "X_train, X_test, y_train, y_test = train_test_split(X, y, test_size=0.30, random_state=20)\n",
    "\n",
    "data_lists = [X_train, y_train, X_test, y_test]\n",
    "label_names = y_train.unique()"
   ]
  },
  {
   "cell_type": "code",
   "execution_count": 18,
   "metadata": {},
   "outputs": [
    {
     "name": "stdout",
     "output_type": "stream",
     "text": [
      "Running LR model\n",
      "*********** Logistic Regression ********\n",
      "Accuracy Score: 0.5444444444444444\n",
      "Confusion Matrix : \n",
      " [[18 30]\n",
      " [11 31]]\n",
      "Accuracy :  0.5444444444444444\n",
      "Sensitivity :  0.375\n",
      "Specificity :  0.7380952380952381\n",
      "ROC AUC score :  0.5565476190476191\n",
      "*********** ****************** ********************\n",
      "Running NB model\n",
      "Running DT model\n",
      "*********** Decision Tree ********\n",
      "Accuracy Score: 0.5222222222222223\n",
      "Confusion Matrix : \n",
      " [[24 24]\n",
      " [19 23]]\n",
      "Accuracy :  0.5222222222222223\n",
      "Sensitivity :  0.5\n",
      "Specificity :  0.5476190476190477\n",
      "ROC AUC score :  0.5238095238095238\n",
      "*********** ****************** ********************\n",
      "Running RF model\n",
      "*********** Random Forest ********\n",
      "Accuracy Score: 0.43333333333333335\n",
      "Confusion Matrix : \n",
      " [[11 37]\n",
      " [14 28]]\n",
      "Accuracy :  0.43333333333333335\n",
      "Sensitivity :  0.22916666666666666\n",
      "Specificity :  0.6666666666666666\n",
      "ROC AUC score :  0.44791666666666663\n",
      "*********** ****************** ********************\n",
      "Running XGB model\n",
      "*********** XGBoost ********\n",
      "Accuracy Score: 0.5111111111111111\n",
      "Confusion Matrix : \n",
      " [[23 25]\n",
      " [19 23]]\n",
      "Accuracy :  0.5111111111111111\n",
      "Sensitivity :  0.4791666666666667\n",
      "Specificity :  0.5476190476190477\n",
      "ROC AUC score :  0.5133928571428571\n",
      "*********** ****************** ********************\n",
      "Running kNN model\n"
     ]
    },
    {
     "name": "stderr",
     "output_type": "stream",
     "text": [
      "/opt/anaconda3/lib/python3.7/site-packages/sklearn/model_selection/_search.py:814: DeprecationWarning: The default of the `iid` parameter will change from True to False in version 0.22 and will be removed in 0.24. This will change numeric results when test-set sizes are unequal.\n",
      "  DeprecationWarning)\n"
     ]
    },
    {
     "name": "stdout",
     "output_type": "stream",
     "text": [
      "*********** k Nearest Neighbor ********\n",
      "Accuracy Score: 0.5111111111111111\n",
      "Confusion Matrix : \n",
      " [[17 31]\n",
      " [13 29]]\n",
      "Accuracy :  0.5111111111111111\n",
      "Sensitivity :  0.3541666666666667\n",
      "Specificity :  0.6904761904761905\n",
      "ROC AUC score :  0.5223214285714286\n",
      "*********** ****************** ********************\n",
      "Running SVM model\n"
     ]
    },
    {
     "name": "stderr",
     "output_type": "stream",
     "text": [
      "/opt/anaconda3/lib/python3.7/site-packages/sklearn/model_selection/_search.py:814: DeprecationWarning: The default of the `iid` parameter will change from True to False in version 0.22 and will be removed in 0.24. This will change numeric results when test-set sizes are unequal.\n",
      "  DeprecationWarning)\n"
     ]
    },
    {
     "name": "stdout",
     "output_type": "stream",
     "text": [
      "*********** Support Vector Machine ********\n",
      "Accuracy Score: 0.4666666666666667\n",
      "Confusion Matrix : \n",
      " [[ 0 48]\n",
      " [ 0 42]]\n",
      "Accuracy :  0.4666666666666667\n",
      "Sensitivity :  0.0\n",
      "Specificity :  1.0\n",
      "ROC AUC score :  0.5\n",
      "*********** ****************** ********************\n",
      "Running NN model\n",
      "*********** Neural Network ********\n",
      "Accuracy Score: 0.5333333333333333\n",
      "Confusion Matrix : \n",
      " [[15 33]\n",
      " [ 9 33]]\n",
      "Accuracy :  0.5333333333333333\n",
      "Sensitivity :  0.3125\n",
      "Specificity :  0.7857142857142857\n",
      "ROC AUC score :  0.5491071428571428\n",
      "*********** ****************** ********************\n",
      "Got the result\n"
     ]
    }
   ],
   "source": [
    "models_result = get_all_the_best_values(data_lists=data_lists)"
   ]
  },
  {
   "cell_type": "code",
   "execution_count": null,
   "metadata": {},
   "outputs": [],
   "source": []
  }
 ],
 "metadata": {
  "kernelspec": {
   "display_name": "Python 3",
   "language": "python",
   "name": "python3"
  },
  "language_info": {
   "codemirror_mode": {
    "name": "ipython",
    "version": 3
   },
   "file_extension": ".py",
   "mimetype": "text/x-python",
   "name": "python",
   "nbconvert_exporter": "python",
   "pygments_lexer": "ipython3",
   "version": "3.7.4"
  }
 },
 "nbformat": 4,
 "nbformat_minor": 2
}
