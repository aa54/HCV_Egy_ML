{
 "cells": [
  {
   "cell_type": "markdown",
   "metadata": {},
   "source": [
    "# Applying Machine Learning to a Hepatitis C Egyptian Cohort Dataset for Predicting the Disease Stage - Experiment 5"
   ]
  },
  {
   "cell_type": "markdown",
   "metadata": {},
   "source": [
    "### TOC:\n",
    "## Two-class prediction - on set vs. severe (<font color=\"red\">F2=F3=0, F1=1 and F4=4</font>)\n",
    "* [AST < 74](#4first-bullet)\n",
    "* [APRI >= 1](#second-bullet)\n",
    "* [APRI >= 2](#third-bullet)\n",
    "* [FIB-4 > 1.45](#fourth-bullet)\n",
    "* [FIB-4 > 3.25](#fifth-bullet)\n",
    "* [Stratified AST: above 148](there are none)"
   ]
  },
  {
   "cell_type": "code",
   "execution_count": 2,
   "metadata": {},
   "outputs": [],
   "source": [
    "import import_ipynb\n",
    "import warnings\n",
    "warnings.filterwarnings(\"ignore\")"
   ]
  },
  {
   "cell_type": "code",
   "execution_count": 3,
   "metadata": {},
   "outputs": [
    {
     "name": "stdout",
     "output_type": "stream",
     "text": [
      "importing Jupyter notebook from CommonUtilsHCV.ipynb\n"
     ]
    }
   ],
   "source": [
    "from CommonUtilsHCV import *"
   ]
  },
  {
   "cell_type": "code",
   "execution_count": 4,
   "metadata": {},
   "outputs": [
    {
     "name": "stdout",
     "output_type": "stream",
     "text": [
      "Connected\n"
     ]
    }
   ],
   "source": [
    "test_connection(conn=\"Connected\")"
   ]
  },
  {
   "cell_type": "markdown",
   "metadata": {},
   "source": [
    "#### Dataset downloaded from https://archive.ics.uci.edu/ml/machine-learning-databases/00503/"
   ]
  },
  {
   "cell_type": "code",
   "execution_count": 86,
   "metadata": {},
   "outputs": [],
   "source": [
    "data = pd.read_excel(r\"HCV_Egy_data_for_loading.xlsx\")"
   ]
  },
  {
   "cell_type": "code",
   "execution_count": 87,
   "metadata": {},
   "outputs": [
    {
     "name": "stdout",
     "output_type": "stream",
     "text": [
      "number of observations in data:   (1385, 29)\n"
     ]
    }
   ],
   "source": [
    "print(\"number of observations in data:\", \" \", data.shape)"
   ]
  },
  {
   "cell_type": "code",
   "execution_count": 88,
   "metadata": {},
   "outputs": [
    {
     "data": {
      "text/plain": [
       "1    336\n",
       "2    332\n",
       "3    355\n",
       "4    362\n",
       "Name: BHS, dtype: int64"
      ]
     },
     "execution_count": 88,
     "metadata": {},
     "output_type": "execute_result"
    }
   ],
   "source": [
    "data[\"BHS\"].value_counts(sort=0)"
   ]
  },
  {
   "cell_type": "code",
   "execution_count": 89,
   "metadata": {},
   "outputs": [],
   "source": [
    "data_tmp1 = data.loc[data[\"BHS\"] != 3]\n",
    "data_tmp = data_tmp1.loc[data_tmp1[\"BHS\"] != 2]"
   ]
  },
  {
   "cell_type": "markdown",
   "metadata": {},
   "source": [
    "### Stratified AST - below 74;  ( <font color=\"red\">F1 vs. F4; no F2 and F3</font>) "
   ]
  },
  {
   "cell_type": "code",
   "execution_count": 9,
   "metadata": {},
   "outputs": [],
   "source": [
    "data_tmp = data_tmp.loc[data_tmp[\"AST1\"] < 74]"
   ]
  },
  {
   "cell_type": "code",
   "execution_count": 10,
   "metadata": {},
   "outputs": [
    {
     "data": {
      "text/plain": [
       "1    124\n",
       "4    156\n",
       "Name: BHS, dtype: int64"
      ]
     },
     "execution_count": 10,
     "metadata": {},
     "output_type": "execute_result"
    }
   ],
   "source": [
    "data_tmp[\"BHS\"].value_counts(sort=0)"
   ]
  },
  {
   "cell_type": "code",
   "execution_count": 11,
   "metadata": {},
   "outputs": [
    {
     "data": {
      "text/plain": [
       "4    156\n",
       "1    156\n",
       "Name: BHS, dtype: int64"
      ]
     },
     "execution_count": 11,
     "metadata": {},
     "output_type": "execute_result"
    }
   ],
   "source": [
    "df_majority = data_tmp[data_tmp[\"BHS\"]==4]\n",
    "df_minority = data_tmp[data_tmp[\"BHS\"]==1]\n",
    "\n",
    "#Downsample majority class\n",
    "df_majority_downsampled = resample(df_minority,\n",
    "                                  replace=True,\n",
    "                                  n_samples=156,\n",
    "                                  random_state=123)\n",
    "\n",
    "# concat the minority and majority downsampled dataframe\n",
    "df_downsampled = pd.concat([df_majority, df_majority_downsampled])\n",
    "\n",
    "# Display new class counts\n",
    "df_downsampled.BHS.value_counts()"
   ]
  },
  {
   "cell_type": "code",
   "execution_count": 12,
   "metadata": {},
   "outputs": [],
   "source": [
    "data_tmp = df_downsampled.copy()"
   ]
  },
  {
   "cell_type": "code",
   "execution_count": 13,
   "metadata": {},
   "outputs": [
    {
     "data": {
      "text/plain": [
       "1    156\n",
       "4    156\n",
       "Name: BHS, dtype: int64"
      ]
     },
     "execution_count": 13,
     "metadata": {},
     "output_type": "execute_result"
    }
   ],
   "source": [
    "data_tmp[\"BHS\"].value_counts(sort=0)"
   ]
  },
  {
   "cell_type": "code",
   "execution_count": null,
   "metadata": {},
   "outputs": [],
   "source": [
    "# data[\"FIB4\"] = round((data[\"Age\"]*data[\"AST1\"])/((data[\"Plat\"]/1000)*np.sqrt(data[\"ALT1\"])),2)\n",
    "# data[\"APRI\"] = round(((data[\"AST1\"]/40)/data[\"Plat\"])*100000,2)\n",
    "# data[\"AST_ALT\"] = round((data[\"AST1\"]/data[\"ALT1\"]),2)"
   ]
  },
  {
   "cell_type": "code",
   "execution_count": 14,
   "metadata": {},
   "outputs": [],
   "source": [
    "# Split data for training and testing\n",
    "data_lists = []\n",
    "X,y = standard_scaler(dataframe=data_tmp)\n",
    "X_train, X_test, y_train, y_test = train_test_split(X, y, test_size=0.30, random_state=20)\n",
    "\n",
    "data_lists = [X_train, y_train, X_test, y_test]\n",
    "label_names = y_train.unique()"
   ]
  },
  {
   "cell_type": "code",
   "execution_count": 15,
   "metadata": {
    "scrolled": true
   },
   "outputs": [
    {
     "name": "stdout",
     "output_type": "stream",
     "text": [
      "Running LR model\n"
     ]
    },
    {
     "name": "stderr",
     "output_type": "stream",
     "text": [
      "/opt/anaconda3/lib/python3.7/site-packages/sklearn/model_selection/_search.py:814: DeprecationWarning: The default of the `iid` parameter will change from True to False in version 0.22 and will be removed in 0.24. This will change numeric results when test-set sizes are unequal.\n",
      "  DeprecationWarning)\n"
     ]
    },
    {
     "name": "stdout",
     "output_type": "stream",
     "text": [
      "*********** Logistic Regression ********\n",
      "Accuracy Score: 0.48936170212765956\n",
      "Confusion Matrix : \n",
      " [[46  0]\n",
      " [48  0]]\n",
      "Accuracy :  0.48936170212765956\n",
      "Sensitivity :  1.0\n",
      "Specificity :  0.0\n",
      "ROC AUC score :  0.5\n",
      "*********** ****************** ********************\n",
      "Running NB model\n",
      "calling fit in NB\n",
      "Done with prediction\n",
      "*********** Naive Bayes ********\n",
      "Accuracy Score: 0.5425531914893617\n",
      "Confusion Matrix : \n",
      " [[28 18]\n",
      " [25 23]]\n",
      "Accuracy :  0.5425531914893617\n",
      "Sensitivity :  0.6086956521739131\n",
      "Specificity :  0.4791666666666667\n",
      "ROC AUC score :  0.5439311594202899\n",
      "*********** ****************** ********************\n",
      "Running DT model\n",
      "*********** Decision Tree ********\n",
      "Accuracy Score: 0.776595744680851\n",
      "Confusion Matrix : \n",
      " [[37  9]\n",
      " [12 36]]\n",
      "Accuracy :  0.776595744680851\n",
      "Sensitivity :  0.8043478260869565\n",
      "Specificity :  0.75\n",
      "ROC AUC score :  0.7771739130434783\n",
      "*********** ****************** ********************\n",
      "Running RF model\n"
     ]
    },
    {
     "name": "stderr",
     "output_type": "stream",
     "text": [
      "/opt/anaconda3/lib/python3.7/site-packages/sklearn/model_selection/_search.py:814: DeprecationWarning: The default of the `iid` parameter will change from True to False in version 0.22 and will be removed in 0.24. This will change numeric results when test-set sizes are unequal.\n",
      "  DeprecationWarning)\n"
     ]
    },
    {
     "name": "stdout",
     "output_type": "stream",
     "text": [
      "*********** Random Forest ********\n",
      "Accuracy Score: 0.7021276595744681\n",
      "Confusion Matrix : \n",
      " [[35 11]\n",
      " [17 31]]\n",
      "Accuracy :  0.7021276595744681\n",
      "Sensitivity :  0.7608695652173914\n",
      "Specificity :  0.6458333333333334\n",
      "ROC AUC score :  0.7033514492753624\n",
      "*********** ****************** ********************\n",
      "Running XGB model\n"
     ]
    },
    {
     "name": "stderr",
     "output_type": "stream",
     "text": [
      "/opt/anaconda3/lib/python3.7/site-packages/sklearn/model_selection/_search.py:814: DeprecationWarning: The default of the `iid` parameter will change from True to False in version 0.22 and will be removed in 0.24. This will change numeric results when test-set sizes are unequal.\n",
      "  DeprecationWarning)\n"
     ]
    },
    {
     "name": "stdout",
     "output_type": "stream",
     "text": [
      "*********** XGBoost ********\n",
      "Accuracy Score: 0.6595744680851063\n",
      "Confusion Matrix : \n",
      " [[32 14]\n",
      " [18 30]]\n",
      "Accuracy :  0.6595744680851063\n",
      "Sensitivity :  0.6956521739130435\n",
      "Specificity :  0.625\n",
      "ROC AUC score :  0.6603260869565217\n",
      "*********** ****************** ********************\n",
      "Running kNN model\n"
     ]
    },
    {
     "name": "stderr",
     "output_type": "stream",
     "text": [
      "/opt/anaconda3/lib/python3.7/site-packages/sklearn/model_selection/_search.py:814: DeprecationWarning: The default of the `iid` parameter will change from True to False in version 0.22 and will be removed in 0.24. This will change numeric results when test-set sizes are unequal.\n",
      "  DeprecationWarning)\n"
     ]
    },
    {
     "name": "stdout",
     "output_type": "stream",
     "text": [
      "*********** k Nearest Neighbor ********\n",
      "Accuracy Score: 0.6595744680851063\n",
      "Confusion Matrix : \n",
      " [[33 13]\n",
      " [19 29]]\n",
      "Accuracy :  0.6595744680851063\n",
      "Sensitivity :  0.717391304347826\n",
      "Specificity :  0.6041666666666666\n",
      "ROC AUC score :  0.6607789855072465\n",
      "*********** ****************** ********************\n",
      "Running SVM model\n"
     ]
    },
    {
     "name": "stderr",
     "output_type": "stream",
     "text": [
      "/opt/anaconda3/lib/python3.7/site-packages/sklearn/model_selection/_search.py:814: DeprecationWarning: The default of the `iid` parameter will change from True to False in version 0.22 and will be removed in 0.24. This will change numeric results when test-set sizes are unequal.\n",
      "  DeprecationWarning)\n"
     ]
    },
    {
     "name": "stdout",
     "output_type": "stream",
     "text": [
      "*********** Support Vector Machine ********\n",
      "Accuracy Score: 0.6702127659574468\n",
      "Confusion Matrix : \n",
      " [[27 19]\n",
      " [12 36]]\n",
      "Accuracy :  0.6702127659574468\n",
      "Sensitivity :  0.5869565217391305\n",
      "Specificity :  0.75\n",
      "ROC AUC score :  0.6684782608695651\n",
      "*********** ****************** ********************\n",
      "Running NN model\n",
      "*********** Neural Network ********\n",
      "Accuracy Score: 0.39361702127659576\n",
      "Confusion Matrix : \n",
      " [[14 32]\n",
      " [25 23]]\n",
      "Accuracy :  0.39361702127659576\n",
      "Sensitivity :  0.30434782608695654\n",
      "Specificity :  0.4791666666666667\n",
      "ROC AUC score :  0.39175724637681164\n",
      "*********** ****************** ********************\n",
      "Got the result\n",
      "saving the model to pickle file\n",
      "Saved model object\n"
     ]
    },
    {
     "name": "stderr",
     "output_type": "stream",
     "text": [
      "/opt/anaconda3/lib/python3.7/site-packages/sklearn/model_selection/_search.py:814: DeprecationWarning: The default of the `iid` parameter will change from True to False in version 0.22 and will be removed in 0.24. This will change numeric results when test-set sizes are unequal.\n",
      "  DeprecationWarning)\n"
     ]
    }
   ],
   "source": [
    "models_result = get_all_the_best_values(data_lists=data_lists, experiment_name=\"Experiment_4\")"
   ]
  },
  {
   "cell_type": "code",
   "execution_count": 23,
   "metadata": {},
   "outputs": [],
   "source": [
    "from sklearn.ensemble import VotingClassifier\n",
    "#create a dictionary of the models\n",
    "estimators = [\n",
    "#     ('lr', models_result[0]['best_param']), \n",
    "#               ('nb', models_result[1]['best_param']),\n",
    "              ('dt', models_result[2]['best_param']),\n",
    "              ('rf', models_result[3]['best_param']),\n",
    "              ('xgb', models_result[4]['best_param']),\n",
    "              ('knn', models_result[5]['best_param']), \n",
    "              ('svm', models_result[6]['best_param']) #,\n",
    "#               ('nn', models_result[7]['best_param'])\n",
    "             ]\n",
    "#create our voting classifier, inputting our models\n",
    "ensemble = VotingClassifier(estimators, voting=\"hard\")"
   ]
  },
  {
   "cell_type": "code",
   "execution_count": 24,
   "metadata": {
    "scrolled": true
   },
   "outputs": [
    {
     "data": {
      "text/plain": [
       "VotingClassifier(estimators=[('dt',\n",
       "                              DecisionTreeClassifier(class_weight=None,\n",
       "                                                     criterion='entropy',\n",
       "                                                     max_depth=None,\n",
       "                                                     max_features=None,\n",
       "                                                     max_leaf_nodes=None,\n",
       "                                                     min_impurity_decrease=0.0,\n",
       "                                                     min_impurity_split=None,\n",
       "                                                     min_samples_leaf=1,\n",
       "                                                     min_samples_split=2,\n",
       "                                                     min_weight_fraction_leaf=0.0,\n",
       "                                                     presort=False,\n",
       "                                                     random_state=None,\n",
       "                                                     splitter='random')),\n",
       "                             ('rf',\n",
       "                              RandomForestClassifier(bo...\n",
       "                                                   metric='minkowski',\n",
       "                                                   metric_params=None,\n",
       "                                                   n_jobs=None, n_neighbors=1,\n",
       "                                                   p=2, weights='uniform')),\n",
       "                             ('svm',\n",
       "                              SVC(C=10, cache_size=200, class_weight=None,\n",
       "                                  coef0=0.0, decision_function_shape='ovr',\n",
       "                                  degree=3, gamma=1, kernel='rbf', max_iter=-1,\n",
       "                                  probability=False, random_state=None,\n",
       "                                  shrinking=True, tol=0.001, verbose=False))],\n",
       "                 flatten_transform=True, n_jobs=None, voting='hard',\n",
       "                 weights=None)"
      ]
     },
     "execution_count": 24,
     "metadata": {},
     "output_type": "execute_result"
    }
   ],
   "source": [
    "ensemble.fit(data_lists[0], data_lists[1])"
   ]
  },
  {
   "cell_type": "code",
   "execution_count": 25,
   "metadata": {},
   "outputs": [],
   "source": [
    "pred = ensemble.predict(data_lists[2])"
   ]
  },
  {
   "cell_type": "code",
   "execution_count": 26,
   "metadata": {},
   "outputs": [
    {
     "name": "stdout",
     "output_type": "stream",
     "text": [
      "Confusion Matrix : \n",
      " [[33 13]\n",
      " [17 31]]\n",
      "Accuracy :  0.6808510638297872\n",
      "Sensitivity :  0.717391304347826\n",
      "Specificity :  0.6458333333333334\n",
      "ROC AUC score :  0.6816123188405798\n"
     ]
    }
   ],
   "source": [
    "evaluate_metrics_2d(y_pred=pred, y_test=data_lists[3])"
   ]
  },
  {
   "cell_type": "markdown",
   "metadata": {},
   "source": [
    "### Stratified AST - between 74 and 148;  ( <font color=\"red\">F1 vs. F4; no F2 and F3</font>) "
   ]
  },
  {
   "cell_type": "code",
   "execution_count": 70,
   "metadata": {},
   "outputs": [],
   "source": [
    "data_tmp = data_tmp.loc[data_tmp[\"AST1\"] > 74]\n",
    "data_tmp = data_tmp.loc[data_tmp[\"AST1\"] < 148]"
   ]
  },
  {
   "cell_type": "code",
   "execution_count": 71,
   "metadata": {},
   "outputs": [
    {
     "data": {
      "text/plain": [
       "1    209\n",
       "4    205\n",
       "Name: BHS, dtype: int64"
      ]
     },
     "execution_count": 71,
     "metadata": {},
     "output_type": "execute_result"
    }
   ],
   "source": [
    "data_tmp[\"BHS\"].value_counts(sort=0)"
   ]
  },
  {
   "cell_type": "code",
   "execution_count": 73,
   "metadata": {},
   "outputs": [],
   "source": [
    "# Split data for training and testing\n",
    "data_lists = []\n",
    "X,y = standard_scaler(dataframe=data_tmp)\n",
    "X_train, X_test, y_train, y_test = train_test_split(X, y, test_size=0.30, random_state=20)\n",
    "\n",
    "data_lists = [X_train, y_train, X_test, y_test]\n",
    "label_names = y_train.unique()"
   ]
  },
  {
   "cell_type": "code",
   "execution_count": 74,
   "metadata": {
    "scrolled": true
   },
   "outputs": [
    {
     "name": "stdout",
     "output_type": "stream",
     "text": [
      "Running LR model\n",
      "*********** Logistic Regression ********\n",
      "Accuracy Score: 0.512\n",
      "Confusion Matrix : \n",
      " [[64  0]\n",
      " [61  0]]\n",
      "Accuracy :  0.512\n",
      "Sensitivity :  1.0\n",
      "Specificity :  0.0\n",
      "ROC AUC score :  0.5\n",
      "*********** ****************** ********************\n",
      "Running NB model\n",
      "calling fit in NB\n",
      "Done with prediction\n",
      "*********** Naive Bayes ********\n",
      "Accuracy Score: 0.504\n",
      "Confusion Matrix : \n",
      " [[30 34]\n",
      " [28 33]]\n",
      "Accuracy :  0.504\n",
      "Sensitivity :  0.46875\n",
      "Specificity :  0.5409836065573771\n",
      "ROC AUC score :  0.5048668032786885\n",
      "*********** ****************** ********************\n",
      "Running DT model\n",
      "*********** Decision Tree ********\n",
      "Accuracy Score: 0.576\n",
      "Confusion Matrix : \n",
      " [[33 31]\n",
      " [22 39]]\n",
      "Accuracy :  0.576\n",
      "Sensitivity :  0.515625\n",
      "Specificity :  0.639344262295082\n",
      "ROC AUC score :  0.577484631147541\n",
      "*********** ****************** ********************\n",
      "Running RF model\n"
     ]
    },
    {
     "name": "stderr",
     "output_type": "stream",
     "text": [
      "/opt/anaconda3/lib/python3.7/site-packages/sklearn/model_selection/_search.py:814: DeprecationWarning: The default of the `iid` parameter will change from True to False in version 0.22 and will be removed in 0.24. This will change numeric results when test-set sizes are unequal.\n",
      "  DeprecationWarning)\n",
      "/opt/anaconda3/lib/python3.7/site-packages/sklearn/model_selection/_search.py:814: DeprecationWarning: The default of the `iid` parameter will change from True to False in version 0.22 and will be removed in 0.24. This will change numeric results when test-set sizes are unequal.\n",
      "  DeprecationWarning)\n"
     ]
    },
    {
     "name": "stdout",
     "output_type": "stream",
     "text": [
      "*********** Random Forest ********\n",
      "Accuracy Score: 0.56\n",
      "Confusion Matrix : \n",
      " [[31 33]\n",
      " [22 39]]\n",
      "Accuracy :  0.56\n",
      "Sensitivity :  0.484375\n",
      "Specificity :  0.639344262295082\n",
      "ROC AUC score :  0.561859631147541\n",
      "*********** ****************** ********************\n",
      "Running XGB model\n"
     ]
    },
    {
     "name": "stderr",
     "output_type": "stream",
     "text": [
      "/opt/anaconda3/lib/python3.7/site-packages/sklearn/model_selection/_search.py:814: DeprecationWarning: The default of the `iid` parameter will change from True to False in version 0.22 and will be removed in 0.24. This will change numeric results when test-set sizes are unequal.\n",
      "  DeprecationWarning)\n"
     ]
    },
    {
     "name": "stdout",
     "output_type": "stream",
     "text": [
      "*********** XGBoost ********\n",
      "Accuracy Score: 0.52\n",
      "Confusion Matrix : \n",
      " [[23 41]\n",
      " [19 42]]\n",
      "Accuracy :  0.52\n",
      "Sensitivity :  0.359375\n",
      "Specificity :  0.6885245901639344\n",
      "ROC AUC score :  0.5239497950819672\n",
      "*********** ****************** ********************\n",
      "Running kNN model\n"
     ]
    },
    {
     "name": "stderr",
     "output_type": "stream",
     "text": [
      "/opt/anaconda3/lib/python3.7/site-packages/sklearn/model_selection/_search.py:814: DeprecationWarning: The default of the `iid` parameter will change from True to False in version 0.22 and will be removed in 0.24. This will change numeric results when test-set sizes are unequal.\n",
      "  DeprecationWarning)\n"
     ]
    },
    {
     "name": "stdout",
     "output_type": "stream",
     "text": [
      "*********** k Nearest Neighbor ********\n",
      "Accuracy Score: 0.576\n",
      "Confusion Matrix : \n",
      " [[37 27]\n",
      " [26 35]]\n",
      "Accuracy :  0.576\n",
      "Sensitivity :  0.578125\n",
      "Specificity :  0.5737704918032787\n",
      "ROC AUC score :  0.5759477459016393\n",
      "*********** ****************** ********************\n",
      "Running SVM model\n"
     ]
    },
    {
     "name": "stderr",
     "output_type": "stream",
     "text": [
      "/opt/anaconda3/lib/python3.7/site-packages/sklearn/model_selection/_search.py:814: DeprecationWarning: The default of the `iid` parameter will change from True to False in version 0.22 and will be removed in 0.24. This will change numeric results when test-set sizes are unequal.\n",
      "  DeprecationWarning)\n"
     ]
    },
    {
     "name": "stdout",
     "output_type": "stream",
     "text": [
      "*********** Support Vector Machine ********\n",
      "Accuracy Score: 0.512\n",
      "Confusion Matrix : \n",
      " [[28 36]\n",
      " [25 36]]\n",
      "Accuracy :  0.512\n",
      "Sensitivity :  0.4375\n",
      "Specificity :  0.5901639344262295\n",
      "ROC AUC score :  0.5138319672131147\n",
      "*********** ****************** ********************\n",
      "Running NN model\n",
      "*********** Neural Network ********\n",
      "Accuracy Score: 0.488\n",
      "Confusion Matrix : \n",
      " [[48 16]\n",
      " [48 13]]\n",
      "Accuracy :  0.488\n",
      "Sensitivity :  0.75\n",
      "Specificity :  0.21311475409836064\n",
      "ROC AUC score :  0.48155737704918034\n",
      "*********** ****************** ********************\n",
      "Got the result\n",
      "saving the model to pickle file\n",
      "Saved model object\n"
     ]
    },
    {
     "name": "stderr",
     "output_type": "stream",
     "text": [
      "/opt/anaconda3/lib/python3.7/site-packages/sklearn/model_selection/_search.py:814: DeprecationWarning: The default of the `iid` parameter will change from True to False in version 0.22 and will be removed in 0.24. This will change numeric results when test-set sizes are unequal.\n",
      "  DeprecationWarning)\n"
     ]
    }
   ],
   "source": [
    "models_result = get_all_the_best_values(data_lists=data_lists, experiment_name=\"Experiment_5b\")"
   ]
  },
  {
   "cell_type": "code",
   "execution_count": 75,
   "metadata": {},
   "outputs": [],
   "source": [
    "from sklearn.ensemble import VotingClassifier\n",
    "#create a dictionary of the models\n",
    "estimators = [\n",
    "#     ('lr', models_result[0]['best_param']), \n",
    "#               ('nb', models_result[1]['best_param']),\n",
    "              ('dt', models_result[2]['best_param']),\n",
    "              ('rf', models_result[3]['best_param']),\n",
    "              ('xgb', models_result[4]['best_param']),\n",
    "              ('knn', models_result[5]['best_param']), \n",
    "              ('svm', models_result[6]['best_param']) #,\n",
    "#               ('nn', models_result[7]['best_param'])\n",
    "             ]\n",
    "#create our voting classifier, inputting our models\n",
    "ensemble = VotingClassifier(estimators, voting=\"hard\")"
   ]
  },
  {
   "cell_type": "code",
   "execution_count": 76,
   "metadata": {
    "scrolled": true
   },
   "outputs": [
    {
     "data": {
      "text/plain": [
       "VotingClassifier(estimators=[('dt',\n",
       "                              DecisionTreeClassifier(class_weight=None,\n",
       "                                                     criterion='entropy',\n",
       "                                                     max_depth=None,\n",
       "                                                     max_features=None,\n",
       "                                                     max_leaf_nodes=None,\n",
       "                                                     min_impurity_decrease=0.0,\n",
       "                                                     min_impurity_split=None,\n",
       "                                                     min_samples_leaf=1,\n",
       "                                                     min_samples_split=2,\n",
       "                                                     min_weight_fraction_leaf=0.0,\n",
       "                                                     presort=False,\n",
       "                                                     random_state=None,\n",
       "                                                     splitter='best')),\n",
       "                             ('rf',\n",
       "                              RandomForestClassifier(boot...\n",
       "                                                   metric='minkowski',\n",
       "                                                   metric_params=None,\n",
       "                                                   n_jobs=None, n_neighbors=1,\n",
       "                                                   p=2, weights='uniform')),\n",
       "                             ('svm',\n",
       "                              SVC(C=10, cache_size=200, class_weight=None,\n",
       "                                  coef0=0.0, decision_function_shape='ovr',\n",
       "                                  degree=3, gamma=0.1, kernel='rbf',\n",
       "                                  max_iter=-1, probability=False,\n",
       "                                  random_state=None, shrinking=True, tol=0.001,\n",
       "                                  verbose=False))],\n",
       "                 flatten_transform=True, n_jobs=None, voting='hard',\n",
       "                 weights=None)"
      ]
     },
     "execution_count": 76,
     "metadata": {},
     "output_type": "execute_result"
    }
   ],
   "source": [
    "ensemble.fit(data_lists[0], data_lists[1])"
   ]
  },
  {
   "cell_type": "code",
   "execution_count": 77,
   "metadata": {},
   "outputs": [],
   "source": [
    "pred = ensemble.predict(data_lists[2])"
   ]
  },
  {
   "cell_type": "code",
   "execution_count": 78,
   "metadata": {},
   "outputs": [
    {
     "name": "stdout",
     "output_type": "stream",
     "text": [
      "Confusion Matrix : \n",
      " [[31 33]\n",
      " [22 39]]\n",
      "Accuracy :  0.56\n",
      "Sensitivity :  0.484375\n",
      "Specificity :  0.639344262295082\n",
      "ROC AUC score :  0.561859631147541\n"
     ]
    }
   ],
   "source": [
    "evaluate_metrics_2d(y_pred=pred, y_test=data_lists[3])"
   ]
  },
  {
   "cell_type": "markdown",
   "metadata": {},
   "source": [
    "### Stratified AST - above 148;  ( <font color=\"red\">F1 vs. F4; no F2 and F3</font>) "
   ]
  },
  {
   "cell_type": "code",
   "execution_count": 91,
   "metadata": {},
   "outputs": [],
   "source": [
    "data_tmp = data_tmp.loc[data_tmp[\"AST1\"] >= 148]"
   ]
  },
  {
   "cell_type": "code",
   "execution_count": 92,
   "metadata": {},
   "outputs": [
    {
     "data": {
      "text/html": [
       "<div>\n",
       "<style scoped>\n",
       "    .dataframe tbody tr th:only-of-type {\n",
       "        vertical-align: middle;\n",
       "    }\n",
       "\n",
       "    .dataframe tbody tr th {\n",
       "        vertical-align: top;\n",
       "    }\n",
       "\n",
       "    .dataframe thead th {\n",
       "        text-align: right;\n",
       "    }\n",
       "</style>\n",
       "<table border=\"1\" class=\"dataframe\">\n",
       "  <thead>\n",
       "    <tr style=\"text-align: right;\">\n",
       "      <th></th>\n",
       "      <th>Age</th>\n",
       "      <th>Gender</th>\n",
       "      <th>BMI</th>\n",
       "      <th>Fever</th>\n",
       "      <th>NV</th>\n",
       "      <th>Headache</th>\n",
       "      <th>Diarrhea</th>\n",
       "      <th>FGBA</th>\n",
       "      <th>Jaundice</th>\n",
       "      <th>EP</th>\n",
       "      <th>...</th>\n",
       "      <th>ALT36</th>\n",
       "      <th>ALT48</th>\n",
       "      <th>ALT_post24w</th>\n",
       "      <th>RNA_base</th>\n",
       "      <th>RNA4</th>\n",
       "      <th>RNA12</th>\n",
       "      <th>RNAEOT</th>\n",
       "      <th>RNAEF</th>\n",
       "      <th>BHG</th>\n",
       "      <th>BHS</th>\n",
       "    </tr>\n",
       "  </thead>\n",
       "  <tbody>\n",
       "  </tbody>\n",
       "</table>\n",
       "<p>0 rows × 29 columns</p>\n",
       "</div>"
      ],
      "text/plain": [
       "Empty DataFrame\n",
       "Columns: [Age, Gender, BMI, Fever, NV, Headache, Diarrhea, FGBA, Jaundice, EP, WBC, RBC, HGB, Plat, AST1, ALT1, ALT4, ALT12, ALT24, ALT36, ALT48, ALT_post24w, RNA_base, RNA4, RNA12, RNAEOT, RNAEF, BHG, BHS]\n",
       "Index: []\n",
       "\n",
       "[0 rows x 29 columns]"
      ]
     },
     "execution_count": 92,
     "metadata": {},
     "output_type": "execute_result"
    }
   ],
   "source": [
    "data_tmp.head()"
   ]
  },
  {
   "cell_type": "code",
   "execution_count": null,
   "metadata": {},
   "outputs": [],
   "source": []
  },
  {
   "cell_type": "markdown",
   "metadata": {},
   "source": [
    "#### APRI >= 1;  ( <font color=\"red\">F1 vs. F4; no F2 and F3</font>) "
   ]
  },
  {
   "cell_type": "code",
   "execution_count": 29,
   "metadata": {},
   "outputs": [],
   "source": [
    "data_tmp1 = data.loc[data[\"BHS\"] != 3]\n",
    "data_tmp = data_tmp1.loc[data_tmp1[\"BHS\"] != 2]"
   ]
  },
  {
   "cell_type": "code",
   "execution_count": 30,
   "metadata": {},
   "outputs": [
    {
     "data": {
      "text/plain": [
       "1    336\n",
       "4    362\n",
       "Name: BHS, dtype: int64"
      ]
     },
     "execution_count": 30,
     "metadata": {},
     "output_type": "execute_result"
    }
   ],
   "source": [
    "data_tmp[\"BHS\"].value_counts(sort=0)"
   ]
  },
  {
   "cell_type": "code",
   "execution_count": 31,
   "metadata": {},
   "outputs": [],
   "source": [
    "data_tmp[\"APRI\"] = round(((data_tmp[\"AST1\"]/40)/data_tmp[\"Plat\"])*100000,2)"
   ]
  },
  {
   "cell_type": "code",
   "execution_count": 34,
   "metadata": {},
   "outputs": [],
   "source": [
    "data_tmp = data_tmp.loc[data_tmp[\"APRI\"] >= 1]"
   ]
  },
  {
   "cell_type": "code",
   "execution_count": 35,
   "metadata": {},
   "outputs": [
    {
     "data": {
      "text/plain": [
       "1    250\n",
       "4    252\n",
       "Name: BHS, dtype: int64"
      ]
     },
     "execution_count": 35,
     "metadata": {},
     "output_type": "execute_result"
    }
   ],
   "source": [
    "data_tmp[\"BHS\"].value_counts(sort=0)"
   ]
  },
  {
   "cell_type": "code",
   "execution_count": 36,
   "metadata": {},
   "outputs": [],
   "source": [
    "# Split data for training and testing\n",
    "data_lists = []\n",
    "X,y = standard_scaler(dataframe=data_tmp)\n",
    "X_train, X_test, y_train, y_test = train_test_split(X, y, test_size=0.30, random_state=20)\n",
    "\n",
    "data_lists = [X_train, y_train, X_test, y_test]\n",
    "label_names = y_train.unique()"
   ]
  },
  {
   "cell_type": "code",
   "execution_count": 37,
   "metadata": {
    "scrolled": true
   },
   "outputs": [
    {
     "name": "stdout",
     "output_type": "stream",
     "text": [
      "Running LR model\n",
      "*********** Logistic Regression ********\n",
      "Accuracy Score: 0.4503311258278146\n",
      "Confusion Matrix : \n",
      " [[38 41]\n",
      " [42 30]]\n",
      "Accuracy :  0.4503311258278146\n",
      "Sensitivity :  0.4810126582278481\n",
      "Specificity :  0.4166666666666667\n",
      "ROC AUC score :  0.44883966244725737\n",
      "*********** ****************** ********************\n",
      "Running NB model\n",
      "calling fit in NB\n",
      "Done with prediction\n",
      "*********** Naive Bayes ********\n",
      "Accuracy Score: 0.4900662251655629\n",
      "Confusion Matrix : \n",
      " [[34 45]\n",
      " [32 40]]\n",
      "Accuracy :  0.4900662251655629\n",
      "Sensitivity :  0.43037974683544306\n",
      "Specificity :  0.5555555555555556\n",
      "ROC AUC score :  0.4929676511954993\n",
      "*********** ****************** ********************\n",
      "Running DT model\n",
      "*********** Decision Tree ********\n",
      "Accuracy Score: 0.4105960264900662\n",
      "Confusion Matrix : \n",
      " [[37 42]\n",
      " [47 25]]\n",
      "Accuracy :  0.4105960264900662\n",
      "Sensitivity :  0.46835443037974683\n",
      "Specificity :  0.3472222222222222\n",
      "ROC AUC score :  0.4077883263009846\n",
      "*********** ****************** ********************\n",
      "Running RF model\n",
      "*********** Random Forest ********\n",
      "Accuracy Score: 0.4966887417218543\n",
      "Confusion Matrix : \n",
      " [[36 43]\n",
      " [33 39]]\n",
      "Accuracy :  0.4966887417218543\n",
      "Sensitivity :  0.45569620253164556\n",
      "Specificity :  0.5416666666666666\n",
      "ROC AUC score :  0.49868143459915604\n",
      "*********** ****************** ********************\n",
      "Running XGB model\n",
      "*********** XGBoost ********\n",
      "Accuracy Score: 0.5298013245033113\n",
      "Confusion Matrix : \n",
      " [[39 40]\n",
      " [31 41]]\n",
      "Accuracy :  0.5298013245033113\n",
      "Sensitivity :  0.4936708860759494\n",
      "Specificity :  0.5694444444444444\n",
      "ROC AUC score :  0.5315576652601969\n",
      "*********** ****************** ********************\n",
      "Running kNN model\n"
     ]
    },
    {
     "name": "stderr",
     "output_type": "stream",
     "text": [
      "/opt/anaconda3/lib/python3.7/site-packages/sklearn/model_selection/_search.py:814: DeprecationWarning: The default of the `iid` parameter will change from True to False in version 0.22 and will be removed in 0.24. This will change numeric results when test-set sizes are unequal.\n",
      "  DeprecationWarning)\n"
     ]
    },
    {
     "name": "stdout",
     "output_type": "stream",
     "text": [
      "*********** k Nearest Neighbor ********\n",
      "Accuracy Score: 0.4966887417218543\n",
      "Confusion Matrix : \n",
      " [[41 38]\n",
      " [38 34]]\n",
      "Accuracy :  0.4966887417218543\n",
      "Sensitivity :  0.5189873417721519\n",
      "Specificity :  0.4722222222222222\n",
      "ROC AUC score :  0.49560478199718705\n",
      "*********** ****************** ********************\n",
      "Running SVM model\n"
     ]
    },
    {
     "name": "stderr",
     "output_type": "stream",
     "text": [
      "/opt/anaconda3/lib/python3.7/site-packages/sklearn/model_selection/_search.py:814: DeprecationWarning: The default of the `iid` parameter will change from True to False in version 0.22 and will be removed in 0.24. This will change numeric results when test-set sizes are unequal.\n",
      "  DeprecationWarning)\n"
     ]
    },
    {
     "name": "stdout",
     "output_type": "stream",
     "text": [
      "*********** Support Vector Machine ********\n",
      "Accuracy Score: 0.5298013245033113\n",
      "Confusion Matrix : \n",
      " [[39 40]\n",
      " [31 41]]\n",
      "Accuracy :  0.5298013245033113\n",
      "Sensitivity :  0.4936708860759494\n",
      "Specificity :  0.5694444444444444\n",
      "ROC AUC score :  0.5315576652601969\n",
      "*********** ****************** ********************\n",
      "Running NN model\n",
      "*********** Neural Network ********\n",
      "Accuracy Score: 0.5099337748344371\n",
      "Confusion Matrix : \n",
      " [[41 38]\n",
      " [36 36]]\n",
      "Accuracy :  0.5099337748344371\n",
      "Sensitivity :  0.5189873417721519\n",
      "Specificity :  0.5\n",
      "ROC AUC score :  0.5094936708860759\n",
      "*********** ****************** ********************\n",
      "Got the result\n",
      "saving the model to pickle file\n",
      "Saved model object\n"
     ]
    }
   ],
   "source": [
    "models_result = get_all_the_best_values(data_lists=data_lists, experiment_name=\"Experiment_5b\")"
   ]
  },
  {
   "cell_type": "code",
   "execution_count": 40,
   "metadata": {},
   "outputs": [],
   "source": [
    "from sklearn.ensemble import VotingClassifier\n",
    "#create a dictionary of the models\n",
    "estimators = [\n",
    "              ('lr', models_result[0]['best_param']), \n",
    "#               ('nb', models_result[1]['best_param']),\n",
    "              ('dt', models_result[2]['best_param']),\n",
    "              ('rf', models_result[3]['best_param']),\n",
    "              ('xgb', models_result[4]['best_param']),\n",
    "              ('knn', models_result[5]['best_param']), \n",
    "              ('svm', models_result[6]['best_param']),\n",
    "              ('nn', models_result[7]['best_param'])\n",
    "             ]\n",
    "#create our voting classifier, inputting our models\n",
    "ensemble = VotingClassifier(estimators, voting=\"hard\")"
   ]
  },
  {
   "cell_type": "code",
   "execution_count": 41,
   "metadata": {
    "scrolled": true
   },
   "outputs": [
    {
     "data": {
      "text/plain": [
       "VotingClassifier(estimators=[('lr',\n",
       "                              LogisticRegression(C=0.09, class_weight=None,\n",
       "                                                 dual=False, fit_intercept=True,\n",
       "                                                 intercept_scaling=1,\n",
       "                                                 l1_ratio=None, max_iter=10,\n",
       "                                                 multi_class='ovr', n_jobs=None,\n",
       "                                                 penalty='l1',\n",
       "                                                 random_state=None,\n",
       "                                                 solver='liblinear', tol=0.0001,\n",
       "                                                 verbose=0, warm_start=False)),\n",
       "                             ('dt',\n",
       "                              DecisionTreeClassifier(class_weight=None,\n",
       "                                                     criterion='entropy',\n",
       "                                                     max_dept...\n",
       "                                            beta_2=0.999, early_stopping=True,\n",
       "                                            epsilon=1e-08, hidden_layer_sizes=8,\n",
       "                                            learning_rate='constant',\n",
       "                                            learning_rate_init=0.001,\n",
       "                                            max_iter=50, momentum=0.9,\n",
       "                                            n_iter_no_change=10,\n",
       "                                            nesterovs_momentum=True,\n",
       "                                            power_t=0.5, random_state=None,\n",
       "                                            shuffle=True, solver='adam',\n",
       "                                            tol=0.0001, validation_fraction=0.1,\n",
       "                                            verbose=False, warm_start=False))],\n",
       "                 flatten_transform=True, n_jobs=None, voting='hard',\n",
       "                 weights=None)"
      ]
     },
     "execution_count": 41,
     "metadata": {},
     "output_type": "execute_result"
    }
   ],
   "source": [
    "ensemble.fit(data_lists[0], data_lists[1])"
   ]
  },
  {
   "cell_type": "code",
   "execution_count": 42,
   "metadata": {},
   "outputs": [],
   "source": [
    "pred = ensemble.predict(data_lists[2])"
   ]
  },
  {
   "cell_type": "code",
   "execution_count": 43,
   "metadata": {},
   "outputs": [
    {
     "name": "stdout",
     "output_type": "stream",
     "text": [
      "Confusion Matrix : \n",
      " [[33 46]\n",
      " [30 42]]\n",
      "Accuracy :  0.4966887417218543\n",
      "Sensitivity :  0.4177215189873418\n",
      "Specificity :  0.5833333333333334\n",
      "ROC AUC score :  0.5005274261603376\n"
     ]
    }
   ],
   "source": [
    "evaluate_metrics_2d(y_pred=pred, y_test=data_lists[3])"
   ]
  },
  {
   "cell_type": "markdown",
   "metadata": {},
   "source": [
    "#### APRI >= 2  ( <font color=\"red\">F1 vs. F4; no F2 and F3</font>) "
   ]
  },
  {
   "cell_type": "code",
   "execution_count": 48,
   "metadata": {},
   "outputs": [],
   "source": [
    "data_tmp1 = data.loc[data[\"BHS\"] != 3]\n",
    "data_tmp = data_tmp1.loc[data_tmp1[\"BHS\"] != 2]"
   ]
  },
  {
   "cell_type": "code",
   "execution_count": 49,
   "metadata": {},
   "outputs": [
    {
     "data": {
      "text/plain": [
       "1    336\n",
       "4    362\n",
       "Name: BHS, dtype: int64"
      ]
     },
     "execution_count": 49,
     "metadata": {},
     "output_type": "execute_result"
    }
   ],
   "source": [
    "data_tmp[\"BHS\"].value_counts(sort=0)"
   ]
  },
  {
   "cell_type": "code",
   "execution_count": 50,
   "metadata": {},
   "outputs": [],
   "source": [
    "data_tmp[\"APRI\"] = round(((data_tmp[\"AST1\"]/40)/data_tmp[\"Plat\"])*100000,2)"
   ]
  },
  {
   "cell_type": "code",
   "execution_count": 51,
   "metadata": {},
   "outputs": [],
   "source": [
    "data_tmp = data_tmp.loc[data_tmp[\"APRI\"] >= 2]"
   ]
  },
  {
   "cell_type": "code",
   "execution_count": 52,
   "metadata": {},
   "outputs": [
    {
     "data": {
      "text/plain": [
       "1    53\n",
       "4    62\n",
       "Name: BHS, dtype: int64"
      ]
     },
     "execution_count": 52,
     "metadata": {},
     "output_type": "execute_result"
    }
   ],
   "source": [
    "data_tmp[\"BHS\"].value_counts(sort=0)"
   ]
  },
  {
   "cell_type": "code",
   "execution_count": 53,
   "metadata": {},
   "outputs": [],
   "source": [
    "# Split data for training and testing\n",
    "data_lists = []\n",
    "X,y = standard_scaler(dataframe=data_tmp)\n",
    "X_train, X_test, y_train, y_test = train_test_split(X, y, test_size=0.30, random_state=20)\n",
    "\n",
    "data_lists = [X_train, y_train, X_test, y_test]\n",
    "label_names = y_train.unique()"
   ]
  },
  {
   "cell_type": "code",
   "execution_count": 54,
   "metadata": {},
   "outputs": [
    {
     "name": "stdout",
     "output_type": "stream",
     "text": [
      "Running LR model\n"
     ]
    },
    {
     "name": "stderr",
     "output_type": "stream",
     "text": [
      "/opt/anaconda3/lib/python3.7/site-packages/sklearn/model_selection/_search.py:814: DeprecationWarning: The default of the `iid` parameter will change from True to False in version 0.22 and will be removed in 0.24. This will change numeric results when test-set sizes are unequal.\n",
      "  DeprecationWarning)\n",
      "/opt/anaconda3/lib/python3.7/site-packages/sklearn/model_selection/_search.py:814: DeprecationWarning: The default of the `iid` parameter will change from True to False in version 0.22 and will be removed in 0.24. This will change numeric results when test-set sizes are unequal.\n",
      "  DeprecationWarning)\n"
     ]
    },
    {
     "name": "stdout",
     "output_type": "stream",
     "text": [
      "*********** Logistic Regression ********\n",
      "Accuracy Score: 0.5142857142857142\n",
      "Confusion Matrix : \n",
      " [[ 4 14]\n",
      " [ 3 14]]\n",
      "Accuracy :  0.5142857142857142\n",
      "Sensitivity :  0.2222222222222222\n",
      "Specificity :  0.8235294117647058\n",
      "ROC AUC score :  0.522875816993464\n",
      "*********** ****************** ********************\n",
      "Running NB model\n",
      "calling fit in NB\n",
      "Done with prediction\n",
      "*********** Naive Bayes ********\n",
      "Accuracy Score: 0.5428571428571428\n",
      "Confusion Matrix : \n",
      " [[ 5 13]\n",
      " [ 3 14]]\n",
      "Accuracy :  0.5428571428571428\n",
      "Sensitivity :  0.2777777777777778\n",
      "Specificity :  0.8235294117647058\n",
      "ROC AUC score :  0.5506535947712419\n",
      "*********** ****************** ********************\n",
      "Running DT model\n",
      "*********** Decision Tree ********\n",
      "Accuracy Score: 0.4857142857142857\n",
      "Confusion Matrix : \n",
      " [[ 8 10]\n",
      " [ 8  9]]\n",
      "Accuracy :  0.4857142857142857\n",
      "Sensitivity :  0.4444444444444444\n",
      "Specificity :  0.5294117647058824\n",
      "ROC AUC score :  0.48692810457516333\n",
      "*********** ****************** ********************\n",
      "Running RF model\n"
     ]
    },
    {
     "name": "stderr",
     "output_type": "stream",
     "text": [
      "/opt/anaconda3/lib/python3.7/site-packages/sklearn/model_selection/_search.py:814: DeprecationWarning: The default of the `iid` parameter will change from True to False in version 0.22 and will be removed in 0.24. This will change numeric results when test-set sizes are unequal.\n",
      "  DeprecationWarning)\n"
     ]
    },
    {
     "name": "stdout",
     "output_type": "stream",
     "text": [
      "*********** Random Forest ********\n",
      "Accuracy Score: 0.4\n",
      "Confusion Matrix : \n",
      " [[ 3 15]\n",
      " [ 6 11]]\n",
      "Accuracy :  0.4\n",
      "Sensitivity :  0.16666666666666666\n",
      "Specificity :  0.6470588235294118\n",
      "ROC AUC score :  0.4068627450980392\n",
      "*********** ****************** ********************\n",
      "Running XGB model\n"
     ]
    },
    {
     "name": "stderr",
     "output_type": "stream",
     "text": [
      "/opt/anaconda3/lib/python3.7/site-packages/sklearn/model_selection/_search.py:814: DeprecationWarning: The default of the `iid` parameter will change from True to False in version 0.22 and will be removed in 0.24. This will change numeric results when test-set sizes are unequal.\n",
      "  DeprecationWarning)\n"
     ]
    },
    {
     "name": "stdout",
     "output_type": "stream",
     "text": [
      "*********** XGBoost ********\n",
      "Accuracy Score: 0.42857142857142855\n",
      "Confusion Matrix : \n",
      " [[ 7 11]\n",
      " [ 9  8]]\n",
      "Accuracy :  0.42857142857142855\n",
      "Sensitivity :  0.3888888888888889\n",
      "Specificity :  0.47058823529411764\n",
      "ROC AUC score :  0.4297385620915033\n",
      "*********** ****************** ********************\n",
      "Running kNN model\n"
     ]
    },
    {
     "name": "stderr",
     "output_type": "stream",
     "text": [
      "/opt/anaconda3/lib/python3.7/site-packages/sklearn/model_selection/_search.py:814: DeprecationWarning: The default of the `iid` parameter will change from True to False in version 0.22 and will be removed in 0.24. This will change numeric results when test-set sizes are unequal.\n",
      "  DeprecationWarning)\n"
     ]
    },
    {
     "name": "stdout",
     "output_type": "stream",
     "text": [
      "*********** k Nearest Neighbor ********\n",
      "Accuracy Score: 0.4857142857142857\n",
      "Confusion Matrix : \n",
      " [[ 6 12]\n",
      " [ 6 11]]\n",
      "Accuracy :  0.4857142857142857\n",
      "Sensitivity :  0.3333333333333333\n",
      "Specificity :  0.6470588235294118\n",
      "ROC AUC score :  0.4901960784313726\n",
      "*********** ****************** ********************\n",
      "Running SVM model\n"
     ]
    },
    {
     "name": "stderr",
     "output_type": "stream",
     "text": [
      "/opt/anaconda3/lib/python3.7/site-packages/sklearn/model_selection/_search.py:814: DeprecationWarning: The default of the `iid` parameter will change from True to False in version 0.22 and will be removed in 0.24. This will change numeric results when test-set sizes are unequal.\n",
      "  DeprecationWarning)\n"
     ]
    },
    {
     "name": "stdout",
     "output_type": "stream",
     "text": [
      "*********** Support Vector Machine ********\n",
      "Accuracy Score: 0.5714285714285714\n",
      "Confusion Matrix : \n",
      " [[11  7]\n",
      " [ 8  9]]\n",
      "Accuracy :  0.5714285714285714\n",
      "Sensitivity :  0.6111111111111112\n",
      "Specificity :  0.5294117647058824\n",
      "ROC AUC score :  0.5702614379084967\n",
      "*********** ****************** ********************\n",
      "Running NN model\n",
      "*********** Neural Network ********\n",
      "Accuracy Score: 0.4\n",
      "Confusion Matrix : \n",
      " [[ 4 14]\n",
      " [ 7 10]]\n",
      "Accuracy :  0.4\n",
      "Sensitivity :  0.2222222222222222\n",
      "Specificity :  0.5882352941176471\n",
      "ROC AUC score :  0.40522875816993464\n",
      "*********** ****************** ********************\n",
      "Got the result\n",
      "saving the model to pickle file\n",
      "Saved model object\n"
     ]
    },
    {
     "name": "stderr",
     "output_type": "stream",
     "text": [
      "/opt/anaconda3/lib/python3.7/site-packages/sklearn/model_selection/_search.py:814: DeprecationWarning: The default of the `iid` parameter will change from True to False in version 0.22 and will be removed in 0.24. This will change numeric results when test-set sizes are unequal.\n",
      "  DeprecationWarning)\n"
     ]
    }
   ],
   "source": [
    "models_result = get_all_the_best_values(data_lists=data_lists, experiment_name=\"Experiment_4\")"
   ]
  },
  {
   "cell_type": "markdown",
   "metadata": {},
   "source": [
    "#### FIB-4 - above 1.45;  ( <font color=\"red\">F1 vs. F4; no F2 and F3</font>) "
   ]
  },
  {
   "cell_type": "code",
   "execution_count": 55,
   "metadata": {},
   "outputs": [],
   "source": [
    "data_tmp1 = data.loc[data[\"BHS\"] != 3]\n",
    "data_tmp = data_tmp1.loc[data_tmp1[\"BHS\"] != 2]"
   ]
  },
  {
   "cell_type": "code",
   "execution_count": 56,
   "metadata": {},
   "outputs": [],
   "source": [
    "data_tmp[\"FIB4\"] = round((data_tmp[\"Age\"]*data_tmp[\"AST1\"])/((data_tmp[\"Plat\"]/1000)*np.sqrt(data_tmp[\"ALT1\"])),2)"
   ]
  },
  {
   "cell_type": "code",
   "execution_count": 57,
   "metadata": {},
   "outputs": [],
   "source": [
    "data_tmp = data_tmp.loc[data_tmp[\"FIB4\"] > 1.45]"
   ]
  },
  {
   "cell_type": "code",
   "execution_count": 58,
   "metadata": {},
   "outputs": [
    {
     "data": {
      "text/plain": [
       "1    302\n",
       "4    302\n",
       "Name: BHS, dtype: int64"
      ]
     },
     "execution_count": 58,
     "metadata": {},
     "output_type": "execute_result"
    }
   ],
   "source": [
    "data_tmp[\"BHS\"].value_counts(sort=0)"
   ]
  },
  {
   "cell_type": "code",
   "execution_count": 59,
   "metadata": {},
   "outputs": [],
   "source": [
    "# Split data for training and testing\n",
    "data_lists = []\n",
    "X,y = standard_scaler(dataframe=data_tmp)\n",
    "X_train, X_test, y_train, y_test = train_test_split(X, y, test_size=0.30, random_state=20)\n",
    "\n",
    "data_lists = [X_train, y_train, X_test, y_test]\n",
    "label_names = y_train.unique()"
   ]
  },
  {
   "cell_type": "code",
   "execution_count": 60,
   "metadata": {
    "scrolled": true
   },
   "outputs": [
    {
     "name": "stdout",
     "output_type": "stream",
     "text": [
      "Running LR model\n",
      "*********** Logistic Regression ********\n",
      "Accuracy Score: 0.4725274725274725\n",
      "Confusion Matrix : \n",
      " [[86  0]\n",
      " [96  0]]\n",
      "Accuracy :  0.4725274725274725\n",
      "Sensitivity :  1.0\n",
      "Specificity :  0.0\n",
      "ROC AUC score :  0.5\n",
      "*********** ****************** ********************\n",
      "Running NB model\n",
      "calling fit in NB\n",
      "Done with prediction\n",
      "*********** Naive Bayes ********\n",
      "Accuracy Score: 0.45054945054945056\n",
      "Confusion Matrix : \n",
      " [[39 47]\n",
      " [53 43]]\n",
      "Accuracy :  0.45054945054945056\n",
      "Sensitivity :  0.45348837209302323\n",
      "Specificity :  0.4479166666666667\n",
      "ROC AUC score :  0.45070251937984496\n",
      "*********** ****************** ********************\n",
      "Running DT model\n",
      "*********** Decision Tree ********\n",
      "Accuracy Score: 0.5494505494505495\n",
      "Confusion Matrix : \n",
      " [[46 40]\n",
      " [42 54]]\n",
      "Accuracy :  0.5494505494505495\n",
      "Sensitivity :  0.5348837209302325\n",
      "Specificity :  0.5625\n",
      "ROC AUC score :  0.5486918604651163\n",
      "*********** ****************** ********************\n",
      "Running RF model\n"
     ]
    },
    {
     "name": "stderr",
     "output_type": "stream",
     "text": [
      "/opt/anaconda3/lib/python3.7/site-packages/sklearn/model_selection/_search.py:814: DeprecationWarning: The default of the `iid` parameter will change from True to False in version 0.22 and will be removed in 0.24. This will change numeric results when test-set sizes are unequal.\n",
      "  DeprecationWarning)\n"
     ]
    },
    {
     "name": "stdout",
     "output_type": "stream",
     "text": [
      "*********** Random Forest ********\n",
      "Accuracy Score: 0.46703296703296704\n",
      "Confusion Matrix : \n",
      " [[36 50]\n",
      " [47 49]]\n",
      "Accuracy :  0.46703296703296704\n",
      "Sensitivity :  0.4186046511627907\n",
      "Specificity :  0.5104166666666666\n",
      "ROC AUC score :  0.46451065891472865\n",
      "*********** ****************** ********************\n",
      "Running XGB model\n"
     ]
    },
    {
     "name": "stderr",
     "output_type": "stream",
     "text": [
      "/opt/anaconda3/lib/python3.7/site-packages/sklearn/model_selection/_search.py:814: DeprecationWarning: The default of the `iid` parameter will change from True to False in version 0.22 and will be removed in 0.24. This will change numeric results when test-set sizes are unequal.\n",
      "  DeprecationWarning)\n"
     ]
    },
    {
     "name": "stdout",
     "output_type": "stream",
     "text": [
      "*********** XGBoost ********\n",
      "Accuracy Score: 0.4945054945054945\n",
      "Confusion Matrix : \n",
      " [[36 50]\n",
      " [42 54]]\n",
      "Accuracy :  0.4945054945054945\n",
      "Sensitivity :  0.4186046511627907\n",
      "Specificity :  0.5625\n",
      "ROC AUC score :  0.49055232558139533\n",
      "*********** ****************** ********************\n",
      "Running kNN model\n"
     ]
    },
    {
     "name": "stderr",
     "output_type": "stream",
     "text": [
      "/opt/anaconda3/lib/python3.7/site-packages/sklearn/model_selection/_search.py:814: DeprecationWarning: The default of the `iid` parameter will change from True to False in version 0.22 and will be removed in 0.24. This will change numeric results when test-set sizes are unequal.\n",
      "  DeprecationWarning)\n"
     ]
    },
    {
     "name": "stdout",
     "output_type": "stream",
     "text": [
      "*********** k Nearest Neighbor ********\n",
      "Accuracy Score: 0.47802197802197804\n",
      "Confusion Matrix : \n",
      " [[38 48]\n",
      " [47 49]]\n",
      "Accuracy :  0.47802197802197804\n",
      "Sensitivity :  0.4418604651162791\n",
      "Specificity :  0.5104166666666666\n",
      "ROC AUC score :  0.4761385658914728\n",
      "*********** ****************** ********************\n",
      "Running SVM model\n"
     ]
    },
    {
     "name": "stderr",
     "output_type": "stream",
     "text": [
      "/opt/anaconda3/lib/python3.7/site-packages/sklearn/model_selection/_search.py:814: DeprecationWarning: The default of the `iid` parameter will change from True to False in version 0.22 and will be removed in 0.24. This will change numeric results when test-set sizes are unequal.\n",
      "  DeprecationWarning)\n"
     ]
    },
    {
     "name": "stdout",
     "output_type": "stream",
     "text": [
      "*********** Support Vector Machine ********\n",
      "Accuracy Score: 0.5054945054945055\n",
      "Confusion Matrix : \n",
      " [[49 37]\n",
      " [53 43]]\n",
      "Accuracy :  0.5054945054945055\n",
      "Sensitivity :  0.5697674418604651\n",
      "Specificity :  0.4479166666666667\n",
      "ROC AUC score :  0.5088420542635659\n",
      "*********** ****************** ********************\n",
      "Running NN model\n",
      "*********** Neural Network ********\n",
      "Accuracy Score: 0.4725274725274725\n",
      "Confusion Matrix : \n",
      " [[31 55]\n",
      " [41 55]]\n",
      "Accuracy :  0.4725274725274725\n",
      "Sensitivity :  0.36046511627906974\n",
      "Specificity :  0.5729166666666666\n",
      "ROC AUC score :  0.46669089147286813\n",
      "*********** ****************** ********************\n",
      "Got the result\n",
      "saving the model to pickle file\n",
      "Saved model object\n"
     ]
    },
    {
     "name": "stderr",
     "output_type": "stream",
     "text": [
      "/opt/anaconda3/lib/python3.7/site-packages/sklearn/model_selection/_search.py:814: DeprecationWarning: The default of the `iid` parameter will change from True to False in version 0.22 and will be removed in 0.24. This will change numeric results when test-set sizes are unequal.\n",
      "  DeprecationWarning)\n"
     ]
    }
   ],
   "source": [
    "models_result = get_all_the_best_values(data_lists=data_lists, experiment_name=\"Experiment_4\")"
   ]
  },
  {
   "cell_type": "markdown",
   "metadata": {},
   "source": [
    "#### FIB-4 - above 3.25  ( <font color=\"red\">F1 vs. F4; no F2 and F3</font>) "
   ]
  },
  {
   "cell_type": "code",
   "execution_count": 61,
   "metadata": {},
   "outputs": [],
   "source": [
    "data_tmp1 = data.loc[data[\"BHS\"] != 3]\n",
    "data_tmp = data_tmp1.loc[data_tmp1[\"BHS\"] != 2]"
   ]
  },
  {
   "cell_type": "code",
   "execution_count": 62,
   "metadata": {},
   "outputs": [],
   "source": [
    "data_tmp[\"FIB4\"] = round((data_tmp[\"Age\"]*data_tmp[\"AST1\"])/((data_tmp[\"Plat\"]/1000)*np.sqrt(data_tmp[\"ALT1\"])),2)"
   ]
  },
  {
   "cell_type": "code",
   "execution_count": 63,
   "metadata": {},
   "outputs": [],
   "source": [
    "data_tmp = data_tmp.loc[data_tmp[\"FIB4\"] > 3.25]"
   ]
  },
  {
   "cell_type": "code",
   "execution_count": 64,
   "metadata": {},
   "outputs": [
    {
     "data": {
      "text/plain": [
       "1    114\n",
       "4    114\n",
       "Name: BHS, dtype: int64"
      ]
     },
     "execution_count": 64,
     "metadata": {},
     "output_type": "execute_result"
    }
   ],
   "source": [
    "data_tmp[\"BHS\"].value_counts(sort=0)"
   ]
  },
  {
   "cell_type": "code",
   "execution_count": 65,
   "metadata": {},
   "outputs": [],
   "source": [
    "# Split data for training and testing\n",
    "data_lists = []\n",
    "X,y = standard_scaler(dataframe=data_tmp)\n",
    "X_train, X_test, y_train, y_test = train_test_split(X, y, test_size=0.30, random_state=20)\n",
    "\n",
    "data_lists = [X_train, y_train, X_test, y_test]\n",
    "label_names = y_train.unique()"
   ]
  },
  {
   "cell_type": "code",
   "execution_count": 66,
   "metadata": {},
   "outputs": [
    {
     "name": "stdout",
     "output_type": "stream",
     "text": [
      "Running LR model\n"
     ]
    },
    {
     "name": "stderr",
     "output_type": "stream",
     "text": [
      "/opt/anaconda3/lib/python3.7/site-packages/sklearn/model_selection/_search.py:814: DeprecationWarning: The default of the `iid` parameter will change from True to False in version 0.22 and will be removed in 0.24. This will change numeric results when test-set sizes are unequal.\n",
      "  DeprecationWarning)\n",
      "/opt/anaconda3/lib/python3.7/site-packages/sklearn/model_selection/_search.py:814: DeprecationWarning: The default of the `iid` parameter will change from True to False in version 0.22 and will be removed in 0.24. This will change numeric results when test-set sizes are unequal.\n",
      "  DeprecationWarning)\n"
     ]
    },
    {
     "name": "stdout",
     "output_type": "stream",
     "text": [
      "*********** Logistic Regression ********\n",
      "Accuracy Score: 0.4782608695652174\n",
      "Confusion Matrix : \n",
      " [[15 25]\n",
      " [11 18]]\n",
      "Accuracy :  0.4782608695652174\n",
      "Sensitivity :  0.375\n",
      "Specificity :  0.6206896551724138\n",
      "ROC AUC score :  0.49784482758620685\n",
      "*********** ****************** ********************\n",
      "Running NB model\n",
      "calling fit in NB\n",
      "Done with prediction\n",
      "*********** Naive Bayes ********\n",
      "Accuracy Score: 0.43478260869565216\n",
      "Confusion Matrix : \n",
      " [[11 29]\n",
      " [10 19]]\n",
      "Accuracy :  0.43478260869565216\n",
      "Sensitivity :  0.275\n",
      "Specificity :  0.6551724137931034\n",
      "ROC AUC score :  0.4650862068965517\n",
      "*********** ****************** ********************\n",
      "Running DT model\n",
      "*********** Decision Tree ********\n",
      "Accuracy Score: 0.5217391304347826\n",
      "Confusion Matrix : \n",
      " [[19 21]\n",
      " [12 17]]\n",
      "Accuracy :  0.5217391304347826\n",
      "Sensitivity :  0.475\n",
      "Specificity :  0.5862068965517241\n",
      "ROC AUC score :  0.530603448275862\n",
      "*********** ****************** ********************\n",
      "Running RF model\n"
     ]
    },
    {
     "name": "stderr",
     "output_type": "stream",
     "text": [
      "/opt/anaconda3/lib/python3.7/site-packages/sklearn/model_selection/_search.py:814: DeprecationWarning: The default of the `iid` parameter will change from True to False in version 0.22 and will be removed in 0.24. This will change numeric results when test-set sizes are unequal.\n",
      "  DeprecationWarning)\n"
     ]
    },
    {
     "name": "stdout",
     "output_type": "stream",
     "text": [
      "*********** Random Forest ********\n",
      "Accuracy Score: 0.5362318840579711\n",
      "Confusion Matrix : \n",
      " [[17 23]\n",
      " [ 9 20]]\n",
      "Accuracy :  0.5362318840579711\n",
      "Sensitivity :  0.425\n",
      "Specificity :  0.6896551724137931\n",
      "ROC AUC score :  0.5573275862068966\n",
      "*********** ****************** ********************\n",
      "Running XGB model\n"
     ]
    },
    {
     "name": "stderr",
     "output_type": "stream",
     "text": [
      "/opt/anaconda3/lib/python3.7/site-packages/sklearn/model_selection/_search.py:814: DeprecationWarning: The default of the `iid` parameter will change from True to False in version 0.22 and will be removed in 0.24. This will change numeric results when test-set sizes are unequal.\n",
      "  DeprecationWarning)\n"
     ]
    },
    {
     "name": "stdout",
     "output_type": "stream",
     "text": [
      "*********** XGBoost ********\n",
      "Accuracy Score: 0.5217391304347826\n",
      "Confusion Matrix : \n",
      " [[18 22]\n",
      " [11 18]]\n",
      "Accuracy :  0.5217391304347826\n",
      "Sensitivity :  0.45\n",
      "Specificity :  0.6206896551724138\n",
      "ROC AUC score :  0.5353448275862068\n",
      "*********** ****************** ********************\n",
      "Running kNN model\n"
     ]
    },
    {
     "name": "stderr",
     "output_type": "stream",
     "text": [
      "/opt/anaconda3/lib/python3.7/site-packages/sklearn/model_selection/_search.py:814: DeprecationWarning: The default of the `iid` parameter will change from True to False in version 0.22 and will be removed in 0.24. This will change numeric results when test-set sizes are unequal.\n",
      "  DeprecationWarning)\n"
     ]
    },
    {
     "name": "stdout",
     "output_type": "stream",
     "text": [
      "*********** k Nearest Neighbor ********\n",
      "Accuracy Score: 0.391304347826087\n",
      "Confusion Matrix : \n",
      " [[15 25]\n",
      " [17 12]]\n",
      "Accuracy :  0.391304347826087\n",
      "Sensitivity :  0.375\n",
      "Specificity :  0.41379310344827586\n",
      "ROC AUC score :  0.3943965517241379\n",
      "*********** ****************** ********************\n",
      "Running SVM model\n"
     ]
    },
    {
     "name": "stderr",
     "output_type": "stream",
     "text": [
      "/opt/anaconda3/lib/python3.7/site-packages/sklearn/model_selection/_search.py:814: DeprecationWarning: The default of the `iid` parameter will change from True to False in version 0.22 and will be removed in 0.24. This will change numeric results when test-set sizes are unequal.\n",
      "  DeprecationWarning)\n"
     ]
    },
    {
     "name": "stdout",
     "output_type": "stream",
     "text": [
      "*********** Support Vector Machine ********\n",
      "Accuracy Score: 0.42028985507246375\n",
      "Confusion Matrix : \n",
      " [[ 0 40]\n",
      " [ 0 29]]\n",
      "Accuracy :  0.42028985507246375\n",
      "Sensitivity :  0.0\n",
      "Specificity :  1.0\n",
      "ROC AUC score :  0.5\n",
      "*********** ****************** ********************\n",
      "Running NN model\n",
      "*********** Neural Network ********\n",
      "Accuracy Score: 0.6086956521739131\n",
      "Confusion Matrix : \n",
      " [[35  5]\n",
      " [22  7]]\n",
      "Accuracy :  0.6086956521739131\n",
      "Sensitivity :  0.875\n",
      "Specificity :  0.2413793103448276\n",
      "ROC AUC score :  0.5581896551724138\n",
      "*********** ****************** ********************\n",
      "Got the result\n",
      "saving the model to pickle file\n",
      "Saved model object\n"
     ]
    },
    {
     "name": "stderr",
     "output_type": "stream",
     "text": [
      "/opt/anaconda3/lib/python3.7/site-packages/sklearn/model_selection/_search.py:814: DeprecationWarning: The default of the `iid` parameter will change from True to False in version 0.22 and will be removed in 0.24. This will change numeric results when test-set sizes are unequal.\n",
      "  DeprecationWarning)\n"
     ]
    }
   ],
   "source": [
    "models_result = get_all_the_best_values(data_lists=data_lists, experiment_name=\"Experiment_4\")"
   ]
  },
  {
   "cell_type": "code",
   "execution_count": null,
   "metadata": {},
   "outputs": [],
   "source": []
  }
 ],
 "metadata": {
  "kernelspec": {
   "display_name": "Python 3",
   "language": "python",
   "name": "python3"
  },
  "language_info": {
   "codemirror_mode": {
    "name": "ipython",
    "version": 3
   },
   "file_extension": ".py",
   "mimetype": "text/x-python",
   "name": "python",
   "nbconvert_exporter": "python",
   "pygments_lexer": "ipython3",
   "version": "3.7.4"
  }
 },
 "nbformat": 4,
 "nbformat_minor": 2
}
