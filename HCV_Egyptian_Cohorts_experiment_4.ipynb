{
 "cells": [
  {
   "cell_type": "markdown",
   "metadata": {},
   "source": [
    "# Applying Machine Learning to a Hepatitis C Egyptian Cohort Dataset for Predicting the Disease Stage - Experiment 4"
   ]
  },
  {
   "cell_type": "markdown",
   "metadata": {},
   "source": [
    "### two-class prediction - on set vs. severe (<font color=\"red\">F2=F3=0, F1=1 and F4=4</font>)"
   ]
  },
  {
   "cell_type": "code",
   "execution_count": 1,
   "metadata": {},
   "outputs": [],
   "source": [
    "import import_ipynb"
   ]
  },
  {
   "cell_type": "code",
   "execution_count": 2,
   "metadata": {},
   "outputs": [
    {
     "name": "stdout",
     "output_type": "stream",
     "text": [
      "importing Jupyter notebook from CommonUtilsHCV.ipynb\n"
     ]
    }
   ],
   "source": [
    "from CommonUtilsHCV import *"
   ]
  },
  {
   "cell_type": "code",
   "execution_count": 3,
   "metadata": {},
   "outputs": [
    {
     "name": "stdout",
     "output_type": "stream",
     "text": [
      "Connected\n"
     ]
    }
   ],
   "source": [
    "test_connection(conn=\"Connected\")"
   ]
  },
  {
   "cell_type": "markdown",
   "metadata": {},
   "source": [
    "#### Dataset downloaded from https://archive.ics.uci.edu/ml/machine-learning-databases/00503/"
   ]
  },
  {
   "cell_type": "code",
   "execution_count": 4,
   "metadata": {},
   "outputs": [],
   "source": [
    "data = pd.read_excel(r\"HCV_Egy_data_for_loading.xlsx\")"
   ]
  },
  {
   "cell_type": "code",
   "execution_count": 5,
   "metadata": {},
   "outputs": [
    {
     "name": "stdout",
     "output_type": "stream",
     "text": [
      "number of observations in data:   (1385, 29)\n"
     ]
    }
   ],
   "source": [
    "print(\"number of observations in data:\", \" \", data.shape)"
   ]
  },
  {
   "cell_type": "code",
   "execution_count": 6,
   "metadata": {},
   "outputs": [
    {
     "data": {
      "text/plain": [
       "1    336\n",
       "2    332\n",
       "3    355\n",
       "4    362\n",
       "Name: BHS, dtype: int64"
      ]
     },
     "execution_count": 6,
     "metadata": {},
     "output_type": "execute_result"
    }
   ],
   "source": [
    "data[\"BHS\"].value_counts(sort=0)"
   ]
  },
  {
   "cell_type": "code",
   "execution_count": 7,
   "metadata": {},
   "outputs": [],
   "source": [
    "# binary classification\n",
    "# data_tmp = data.copy()\n",
    "data_tmp1 = data.loc[data[\"BHS\"] != 3]\n",
    "data_tmp = data_tmp1.loc[data_tmp1[\"BHS\"] != 2]"
   ]
  },
  {
   "cell_type": "code",
   "execution_count": 8,
   "metadata": {},
   "outputs": [
    {
     "data": {
      "text/plain": [
       "1    336\n",
       "4    362\n",
       "Name: BHS, dtype: int64"
      ]
     },
     "execution_count": 8,
     "metadata": {},
     "output_type": "execute_result"
    }
   ],
   "source": [
    "data_tmp[\"BHS\"].value_counts(sort=0)"
   ]
  },
  {
   "cell_type": "code",
   "execution_count": 9,
   "metadata": {},
   "outputs": [],
   "source": [
    "# Split data for training and testing\n",
    "data_lists = []\n",
    "X,y = standard_scaler(dataframe=data_tmp)\n",
    "X_train, X_test, y_train, y_test = train_test_split(X, y, test_size=0.30, random_state=20)\n",
    "\n",
    "data_lists = [X_train, y_train, X_test, y_test]\n",
    "label_names = y_train.unique()"
   ]
  },
  {
   "cell_type": "code",
   "execution_count": 10,
   "metadata": {},
   "outputs": [
    {
     "name": "stdout",
     "output_type": "stream",
     "text": [
      "Running LR model\n",
      "*********** Logistic Regression ********\n",
      "Accuracy Score: 0.49523809523809526\n",
      "Confusion Matrix : \n",
      " [[34 72]\n",
      " [34 70]]\n",
      "Accuracy :  0.49523809523809526\n",
      "Sensitivity :  0.32075471698113206\n",
      "Specificity :  0.6730769230769231\n",
      "ROC AUC score :  0.4969158200290276\n",
      "*********** ****************** ********************\n",
      "Running NB model\n",
      "calling fit in NB\n",
      "Done with prediction\n",
      "*********** Naive Bayes ********\n",
      "Accuracy Score: 0.5380952380952381\n",
      "Confusion Matrix : \n",
      " [[37 69]\n",
      " [28 76]]\n",
      "Accuracy :  0.5380952380952381\n",
      "Sensitivity :  0.3490566037735849\n",
      "Specificity :  0.7307692307692307\n",
      "ROC AUC score :  0.5399129172714079\n",
      "*********** ****************** ********************\n",
      "Running DT model\n",
      "*********** Decision Tree ********\n",
      "Accuracy Score: 0.5\n",
      "Confusion Matrix : \n",
      " [[54 52]\n",
      " [53 51]]\n",
      "Accuracy :  0.5\n",
      "Sensitivity :  0.5094339622641509\n",
      "Specificity :  0.49038461538461536\n",
      "ROC AUC score :  0.4999092888243832\n",
      "*********** ****************** ********************\n",
      "Running RF model\n",
      "*********** Random Forest ********\n",
      "Accuracy Score: 0.5666666666666667\n",
      "Confusion Matrix : \n",
      " [[36 70]\n",
      " [21 83]]\n",
      "Accuracy :  0.5666666666666667\n",
      "Sensitivity :  0.33962264150943394\n",
      "Specificity :  0.7980769230769231\n",
      "ROC AUC score :  0.5688497822931786\n",
      "*********** ****************** ********************\n",
      "Running XGB model\n",
      "*********** XGBoost ********\n",
      "Accuracy Score: 0.5142857142857142\n",
      "Confusion Matrix : \n",
      " [[49 57]\n",
      " [45 59]]\n",
      "Accuracy :  0.5142857142857142\n",
      "Sensitivity :  0.46226415094339623\n",
      "Specificity :  0.5673076923076923\n",
      "ROC AUC score :  0.5147859216255443\n",
      "*********** ****************** ********************\n",
      "Running kNN model\n"
     ]
    },
    {
     "name": "stderr",
     "output_type": "stream",
     "text": [
      "/opt/anaconda3/lib/python3.7/site-packages/sklearn/model_selection/_search.py:814: DeprecationWarning: The default of the `iid` parameter will change from True to False in version 0.22 and will be removed in 0.24. This will change numeric results when test-set sizes are unequal.\n",
      "  DeprecationWarning)\n"
     ]
    },
    {
     "name": "stdout",
     "output_type": "stream",
     "text": [
      "*********** k Nearest Neighbor ********\n",
      "Accuracy Score: 0.5904761904761905\n",
      "Confusion Matrix : \n",
      " [[52 54]\n",
      " [32 72]]\n",
      "Accuracy :  0.5904761904761905\n",
      "Sensitivity :  0.49056603773584906\n",
      "Specificity :  0.6923076923076923\n",
      "ROC AUC score :  0.5914368650217707\n",
      "*********** ****************** ********************\n",
      "Running SVM model\n"
     ]
    },
    {
     "name": "stderr",
     "output_type": "stream",
     "text": [
      "/opt/anaconda3/lib/python3.7/site-packages/sklearn/model_selection/_search.py:814: DeprecationWarning: The default of the `iid` parameter will change from True to False in version 0.22 and will be removed in 0.24. This will change numeric results when test-set sizes are unequal.\n",
      "  DeprecationWarning)\n"
     ]
    },
    {
     "name": "stdout",
     "output_type": "stream",
     "text": [
      "*********** Support Vector Machine ********\n",
      "Accuracy Score: 0.49523809523809526\n",
      "Confusion Matrix : \n",
      " [[  0 106]\n",
      " [  0 104]]\n",
      "Accuracy :  0.49523809523809526\n",
      "Sensitivity :  0.0\n",
      "Specificity :  1.0\n",
      "ROC AUC score :  0.5\n",
      "*********** ****************** ********************\n",
      "Running NN model\n",
      "*********** Neural Network ********\n",
      "Accuracy Score: 0.5285714285714286\n",
      "Confusion Matrix : \n",
      " [[94 12]\n",
      " [87 17]]\n",
      "Accuracy :  0.5285714285714286\n",
      "Sensitivity :  0.8867924528301887\n",
      "Specificity :  0.16346153846153846\n",
      "ROC AUC score :  0.5251269956458636\n",
      "*********** ****************** ********************\n",
      "Got the result\n",
      "saving the model to pickle file\n",
      "Saved model object\n"
     ]
    },
    {
     "name": "stderr",
     "output_type": "stream",
     "text": [
      "/opt/anaconda3/lib/python3.7/site-packages/sklearn/model_selection/_search.py:814: DeprecationWarning: The default of the `iid` parameter will change from True to False in version 0.22 and will be removed in 0.24. This will change numeric results when test-set sizes are unequal.\n",
      "  DeprecationWarning)\n"
     ]
    }
   ],
   "source": [
    "models_result = get_all_the_best_values(data_lists=data_lists, experiment_name=\"Experiment_4\")"
   ]
  },
  {
   "cell_type": "code",
   "execution_count": null,
   "metadata": {},
   "outputs": [],
   "source": [
    "## Load pickle object\n",
    "import pickle\n",
    "import os\n",
    "# with open(file_name, 'rb') as file:\n",
    "#     models_result = pickle.load(file)\n",
    "# path = os.path.join(os.getcwd(), \"Experiment_4.pkl\")"
   ]
  },
  {
   "cell_type": "code",
   "execution_count": null,
   "metadata": {},
   "outputs": [],
   "source": [
    "# path"
   ]
  },
  {
   "cell_type": "code",
   "execution_count": null,
   "metadata": {},
   "outputs": [],
   "source": [
    "# def save_model_to_pickle(file_name=None, model_object=None):\n",
    "#     with open(file_name, 'wb') as file:\n",
    "#         pickle.dump(model_object, file)\n",
    "        \n",
    "#         print(\"Saved model object\")"
   ]
  },
  {
   "cell_type": "code",
   "execution_count": null,
   "metadata": {},
   "outputs": [],
   "source": [
    "# save_model_to_pickle(file_name=path, model_object=models_result)"
   ]
  },
  {
   "cell_type": "code",
   "execution_count": 11,
   "metadata": {},
   "outputs": [],
   "source": [
    "def load_pickle_file(file_name):\n",
    "    with open(file_name, 'rb') as file:\n",
    "        models_result = pickle.load(file)"
   ]
  },
  {
   "cell_type": "code",
   "execution_count": null,
   "metadata": {},
   "outputs": [],
   "source": [
    "# model_resu = load_pickle_file(file_name=\"/Users/aravindakella/Desktop/HCV/Experiment_4.pkl\")"
   ]
  },
  {
   "cell_type": "code",
   "execution_count": 12,
   "metadata": {},
   "outputs": [
    {
     "ename": "NameError",
     "evalue": "name 'model_resu' is not defined",
     "output_type": "error",
     "traceback": [
      "\u001b[0;31m---------------------------------------------------------------------------\u001b[0m",
      "\u001b[0;31mNameError\u001b[0m                                 Traceback (most recent call last)",
      "\u001b[0;32m<ipython-input-12-ee7457ad9842>\u001b[0m in \u001b[0;36m<module>\u001b[0;34m\u001b[0m\n\u001b[0;32m----> 1\u001b[0;31m \u001b[0mmodel_resu\u001b[0m\u001b[0;34m\u001b[0m\u001b[0;34m\u001b[0m\u001b[0m\n\u001b[0m",
      "\u001b[0;31mNameError\u001b[0m: name 'model_resu' is not defined"
     ]
    }
   ],
   "source": [
    "model_resu"
   ]
  },
  {
   "cell_type": "markdown",
   "metadata": {},
   "source": [
    "### Ensemble Model"
   ]
  },
  {
   "cell_type": "code",
   "execution_count": 15,
   "metadata": {},
   "outputs": [],
   "source": [
    "from sklearn.ensemble import VotingClassifier\n",
    "#create a dictionary of the models\n",
    "estimators = [('lr', models_result[0]['best_param']), \n",
    "#               ('nb', models_result[1]['best_param']),\n",
    "              ('dt', models_result[2]['best_param']),\n",
    "              ('rf', models_result[3]['best_param']),\n",
    "              ('xgb', models_result[4]['best_param']),\n",
    "              ('knn', models_result[5]['best_param']), \n",
    "#               ('svm', models_result[6]['best_param']),\n",
    "              ('nn', models_result[7]['best_param'])\n",
    "             ]\n",
    "#create our voting classifier, inputting our models\n",
    "ensemble = VotingClassifier(estimators, voting=\"hard\")"
   ]
  },
  {
   "cell_type": "code",
   "execution_count": 16,
   "metadata": {
    "scrolled": true
   },
   "outputs": [
    {
     "data": {
      "text/plain": [
       "VotingClassifier(estimators=[('lr',\n",
       "                              LogisticRegression(C=0.001, class_weight=None,\n",
       "                                                 dual=False, fit_intercept=True,\n",
       "                                                 intercept_scaling=1,\n",
       "                                                 l1_ratio=None, max_iter=10,\n",
       "                                                 multi_class='ovr', n_jobs=None,\n",
       "                                                 penalty='l2',\n",
       "                                                 random_state=None,\n",
       "                                                 solver='liblinear', tol=0.0001,\n",
       "                                                 verbose=0, warm_start=False)),\n",
       "                             ('dt',\n",
       "                              DecisionTreeClassifier(class_weight=None,\n",
       "                                                     criterion='entropy',\n",
       "                                                     max_dep...\n",
       "                                            beta_2=0.999, early_stopping=True,\n",
       "                                            epsilon=1e-08, hidden_layer_sizes=4,\n",
       "                                            learning_rate='constant',\n",
       "                                            learning_rate_init=0.001,\n",
       "                                            max_iter=50, momentum=0.9,\n",
       "                                            n_iter_no_change=10,\n",
       "                                            nesterovs_momentum=True,\n",
       "                                            power_t=0.5, random_state=None,\n",
       "                                            shuffle=True, solver='adam',\n",
       "                                            tol=0.0001, validation_fraction=0.1,\n",
       "                                            verbose=False, warm_start=False))],\n",
       "                 flatten_transform=True, n_jobs=None, voting='hard',\n",
       "                 weights=None)"
      ]
     },
     "execution_count": 16,
     "metadata": {},
     "output_type": "execute_result"
    }
   ],
   "source": [
    "ensemble.fit(data_lists[0], data_lists[1])"
   ]
  },
  {
   "cell_type": "code",
   "execution_count": null,
   "metadata": {},
   "outputs": [],
   "source": []
  },
  {
   "cell_type": "code",
   "execution_count": 17,
   "metadata": {},
   "outputs": [],
   "source": [
    "pred = ensemble.predict(data_lists[2])"
   ]
  },
  {
   "cell_type": "code",
   "execution_count": 18,
   "metadata": {},
   "outputs": [
    {
     "name": "stdout",
     "output_type": "stream",
     "text": [
      "Confusion Matrix : \n",
      " [[48 58]\n",
      " [50 54]]\n",
      "Accuracy :  0.4857142857142857\n",
      "Sensitivity :  0.4528301886792453\n",
      "Specificity :  0.5192307692307693\n",
      "ROC AUC score :  0.4860304789550073\n"
     ]
    }
   ],
   "source": [
    "evaluate_metrics_2d(y_pred=pred, y_test=data_lists[3])"
   ]
  },
  {
   "cell_type": "markdown",
   "metadata": {},
   "source": [
    "#### Stratified AST - below 74;  ( <font color=\"red\">F1 vs. F4; no F2 and F3</font>) "
   ]
  },
  {
   "cell_type": "code",
   "execution_count": null,
   "metadata": {},
   "outputs": [],
   "source": [
    "# data_tmp = data.loc[data[\"AST1\"] < 74]\n",
    "# data_tmp = data_tmp.loc[data[\"BHS\"] >= 3]"
   ]
  },
  {
   "cell_type": "code",
   "execution_count": null,
   "metadata": {},
   "outputs": [],
   "source": [
    "data_tmp1 = data.loc[data[\"BHS\"] != 3]\n",
    "data_tmp = data_tmp1.loc[data_tmp1[\"BHS\"] != 2]"
   ]
  },
  {
   "cell_type": "code",
   "execution_count": null,
   "metadata": {},
   "outputs": [],
   "source": [
    "data_tmp = data_tmp.loc[data_tmp[\"AST1\"] < 74]"
   ]
  },
  {
   "cell_type": "code",
   "execution_count": null,
   "metadata": {},
   "outputs": [],
   "source": [
    "data_tmp[\"BHS\"].value_counts(sort=0)"
   ]
  },
  {
   "cell_type": "code",
   "execution_count": null,
   "metadata": {},
   "outputs": [],
   "source": [
    "# Split data for training and testing\n",
    "data_lists = []\n",
    "X,y = standard_scaler(dataframe=data_tmp)\n",
    "X_train, X_test, y_train, y_test = train_test_split(X, y, test_size=0.30, random_state=20)\n",
    "\n",
    "data_lists = [X_train, y_train, X_test, y_test]\n",
    "label_names = y_train.unique()"
   ]
  },
  {
   "cell_type": "code",
   "execution_count": null,
   "metadata": {},
   "outputs": [],
   "source": [
    "models_result = get_all_the_best_values(data_lists=data_lists)"
   ]
  },
  {
   "cell_type": "code",
   "execution_count": null,
   "metadata": {},
   "outputs": [],
   "source": [
    "models_result"
   ]
  },
  {
   "cell_type": "code",
   "execution_count": null,
   "metadata": {},
   "outputs": [],
   "source": [
    "# models_result[1]['best_param']"
   ]
  },
  {
   "cell_type": "code",
   "execution_count": null,
   "metadata": {},
   "outputs": [],
   "source": [
    "# models_result"
   ]
  },
  {
   "cell_type": "code",
   "execution_count": null,
   "metadata": {},
   "outputs": [],
   "source": [
    "# model_result = []\n",
    "# model_result.append((\"LR\", result))"
   ]
  },
  {
   "cell_type": "code",
   "execution_count": null,
   "metadata": {},
   "outputs": [],
   "source": [
    "# model_result"
   ]
  },
  {
   "cell_type": "code",
   "execution_count": null,
   "metadata": {},
   "outputs": [],
   "source": [
    "from sklearn.ensemble import VotingClassifier\n",
    "#create a dictionary of the models\n",
    "estimators = [('lr', models_result[0]['best_param']), ('nb', models_result[1]['best_param']) #, ('xgb', xgb_best),\n",
    "#               ('knn', knn_best), ('dt', dt_best), ('svm', svm_best),\n",
    "#               ('nn', nn_best), ()'nb', nb_best)\n",
    "             ]\n",
    "#create our voting classifier, inputting our models\n",
    "ensemble = VotingClassifier(estimators, voting=\"hard\")"
   ]
  }
 ],
 "metadata": {
  "kernelspec": {
   "display_name": "Python 3",
   "language": "python",
   "name": "python3"
  },
  "language_info": {
   "codemirror_mode": {
    "name": "ipython",
    "version": 3
   },
   "file_extension": ".py",
   "mimetype": "text/x-python",
   "name": "python",
   "nbconvert_exporter": "python",
   "pygments_lexer": "ipython3",
   "version": "3.7.4"
  }
 },
 "nbformat": 4,
 "nbformat_minor": 2
}
