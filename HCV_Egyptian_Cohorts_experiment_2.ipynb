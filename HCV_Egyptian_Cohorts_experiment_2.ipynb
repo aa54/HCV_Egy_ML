{
 "cells": [
  {
   "cell_type": "markdown",
   "metadata": {},
   "source": [
    "# Applying Machine Learning to a Hepatitis C Egyptian Cohort Dataset for Predicting the Disease Stage - Experiment 2"
   ]
  },
  {
   "cell_type": "markdown",
   "metadata": {},
   "source": [
    "### two-class prediction - early stage vs. late stage (<font color=\"red\">F1=F2=1; and F3=F4=4</font>)"
   ]
  },
  {
   "cell_type": "code",
   "execution_count": 2,
   "metadata": {},
   "outputs": [],
   "source": [
    "import import_ipynb"
   ]
  },
  {
   "cell_type": "code",
   "execution_count": 3,
   "metadata": {},
   "outputs": [
    {
     "name": "stdout",
     "output_type": "stream",
     "text": [
      "importing Jupyter notebook from CommonUtilsHCV.ipynb\n"
     ]
    }
   ],
   "source": [
    "from CommonUtilsHCV import *"
   ]
  },
  {
   "cell_type": "code",
   "execution_count": 4,
   "metadata": {},
   "outputs": [
    {
     "name": "stdout",
     "output_type": "stream",
     "text": [
      "Aravind..\n"
     ]
    }
   ],
   "source": [
    "test_v(\"Aravind..\")"
   ]
  },
  {
   "cell_type": "markdown",
   "metadata": {},
   "source": [
    "#### Dataset downloaded from https://archive.ics.uci.edu/ml/machine-learning-databases/00503/"
   ]
  },
  {
   "cell_type": "code",
   "execution_count": 5,
   "metadata": {},
   "outputs": [],
   "source": [
    "data = pd.read_excel(r\"HCV_Egy_data_for_loading.xlsx\")"
   ]
  },
  {
   "cell_type": "code",
   "execution_count": 6,
   "metadata": {},
   "outputs": [
    {
     "name": "stdout",
     "output_type": "stream",
     "text": [
      "number of observations in data:   (1385, 29)\n"
     ]
    }
   ],
   "source": [
    "print(\"number of observations in data:\", \" \", data.shape)"
   ]
  },
  {
   "cell_type": "code",
   "execution_count": 7,
   "metadata": {},
   "outputs": [
    {
     "data": {
      "text/plain": [
       "1    336\n",
       "2    332\n",
       "3    355\n",
       "4    362\n",
       "Name: BHS, dtype: int64"
      ]
     },
     "execution_count": 7,
     "metadata": {},
     "output_type": "execute_result"
    }
   ],
   "source": [
    "data[\"BHS\"].value_counts(sort=0)"
   ]
  },
  {
   "cell_type": "code",
   "execution_count": 11,
   "metadata": {},
   "outputs": [],
   "source": [
    "# binary classification\n",
    "data_tmp = data.copy()\n",
    "data_tmp[\"BHS\"] = np.where(data_tmp[\"BHS\"]<=2 , 1, 4)"
   ]
  },
  {
   "cell_type": "code",
   "execution_count": 12,
   "metadata": {},
   "outputs": [
    {
     "data": {
      "text/plain": [
       "1    668\n",
       "4    717\n",
       "Name: BHS, dtype: int64"
      ]
     },
     "execution_count": 12,
     "metadata": {},
     "output_type": "execute_result"
    }
   ],
   "source": [
    "data_tmp[\"BHS\"].value_counts(sort=0)"
   ]
  },
  {
   "cell_type": "code",
   "execution_count": 13,
   "metadata": {},
   "outputs": [],
   "source": [
    "# Split data for training and testing\n",
    "data_lists = []\n",
    "X,y = standard_scaler(dataframe=data_tmp)\n",
    "X_train, X_test, y_train, y_test = train_test_split(X, y, test_size=0.30, random_state=20)\n",
    "\n",
    "data_lists = [X_train, y_train, X_test, y_test]\n",
    "label_names = y_train.unique()"
   ]
  },
  {
   "cell_type": "code",
   "execution_count": 14,
   "metadata": {},
   "outputs": [
    {
     "name": "stdout",
     "output_type": "stream",
     "text": [
      "Running LR model\n",
      "*********** Logistic Regression ********\n",
      "Accuracy Score: 0.5216346153846154\n",
      "Confusion Matrix : \n",
      " [[ 80 113]\n",
      " [ 86 137]]\n",
      "Accuracy :  0.5216346153846154\n",
      "Sensitivity :  0.41450777202072536\n",
      "Specificity :  0.6143497757847534\n",
      "ROC AUC score :  0.5144287739027393\n",
      "*********** ****************** ********************\n",
      "Running NB model\n",
      "Running DT model\n",
      "*********** Decision Tree ********\n",
      "Accuracy Score: 0.4831730769230769\n",
      "Confusion Matrix : \n",
      " [[ 87 106]\n",
      " [109 114]]\n",
      "Accuracy :  0.4831730769230769\n",
      "Sensitivity :  0.45077720207253885\n",
      "Specificity :  0.5112107623318386\n",
      "ROC AUC score :  0.4809939822021888\n",
      "*********** ****************** ********************\n",
      "Running RF model\n",
      "*********** Random Forest ********\n",
      "Accuracy Score: 0.5240384615384616\n",
      "Confusion Matrix : \n",
      " [[ 75 118]\n",
      " [ 80 143]]\n",
      "Accuracy :  0.5240384615384616\n",
      "Sensitivity :  0.38860103626943004\n",
      "Specificity :  0.6412556053811659\n",
      "ROC AUC score :  0.5149283208252979\n",
      "*********** ****************** ********************\n",
      "Running XGB model\n",
      "*********** XGBoost ********\n",
      "Accuracy Score: 0.47115384615384615\n",
      "Confusion Matrix : \n",
      " [[ 61 132]\n",
      " [ 88 135]]\n",
      "Accuracy :  0.47115384615384615\n",
      "Sensitivity :  0.3160621761658031\n",
      "Specificity :  0.6053811659192825\n",
      "ROC AUC score :  0.4607216710425428\n",
      "*********** ****************** ********************\n",
      "Running kNN model\n"
     ]
    },
    {
     "name": "stderr",
     "output_type": "stream",
     "text": [
      "/opt/anaconda3/lib/python3.7/site-packages/sklearn/model_selection/_search.py:814: DeprecationWarning: The default of the `iid` parameter will change from True to False in version 0.22 and will be removed in 0.24. This will change numeric results when test-set sizes are unequal.\n",
      "  DeprecationWarning)\n"
     ]
    },
    {
     "name": "stdout",
     "output_type": "stream",
     "text": [
      "*********** k Nearest Neighbor ********\n",
      "Accuracy Score: 0.4951923076923077\n",
      "Confusion Matrix : \n",
      " [[ 85 108]\n",
      " [102 121]]\n",
      "Accuracy :  0.4951923076923077\n",
      "Sensitivity :  0.44041450777202074\n",
      "Specificity :  0.5426008968609866\n",
      "ROC AUC score :  0.49150770231650365\n",
      "*********** ****************** ********************\n",
      "Running SVM model\n"
     ]
    },
    {
     "name": "stderr",
     "output_type": "stream",
     "text": [
      "/opt/anaconda3/lib/python3.7/site-packages/sklearn/model_selection/_search.py:814: DeprecationWarning: The default of the `iid` parameter will change from True to False in version 0.22 and will be removed in 0.24. This will change numeric results when test-set sizes are unequal.\n",
      "  DeprecationWarning)\n"
     ]
    },
    {
     "name": "stdout",
     "output_type": "stream",
     "text": [
      "*********** Support Vector Machine ********\n",
      "Accuracy Score: 0.5072115384615384\n",
      "Confusion Matrix : \n",
      " [[ 78 115]\n",
      " [ 90 133]]\n",
      "Accuracy :  0.5072115384615384\n",
      "Sensitivity :  0.40414507772020725\n",
      "Specificity :  0.5964125560538116\n",
      "ROC AUC score :  0.5002788168870094\n",
      "*********** ****************** ********************\n",
      "Running NN model\n",
      "*********** Neural Network ********\n",
      "Accuracy Score: 0.5480769230769231\n",
      "Confusion Matrix : \n",
      " [[ 27 166]\n",
      " [ 22 201]]\n",
      "Accuracy :  0.5480769230769231\n",
      "Sensitivity :  0.13989637305699482\n",
      "Specificity :  0.9013452914798207\n",
      "ROC AUC score :  0.5206208322684078\n",
      "*********** ****************** ********************\n",
      "Got the result\n"
     ]
    }
   ],
   "source": [
    "models_result = get_all_the_best_values(data_lists=data_lists)"
   ]
  },
  {
   "cell_type": "code",
   "execution_count": null,
   "metadata": {},
   "outputs": [],
   "source": [
    "# models_result[1]['best_param']"
   ]
  },
  {
   "cell_type": "code",
   "execution_count": null,
   "metadata": {},
   "outputs": [],
   "source": [
    "# models_result"
   ]
  },
  {
   "cell_type": "code",
   "execution_count": null,
   "metadata": {},
   "outputs": [],
   "source": [
    "model_result = []\n",
    "model_result.append((\"LR\", result))"
   ]
  },
  {
   "cell_type": "code",
   "execution_count": null,
   "metadata": {},
   "outputs": [],
   "source": [
    "model_result"
   ]
  },
  {
   "cell_type": "code",
   "execution_count": null,
   "metadata": {},
   "outputs": [],
   "source": [
    "from sklearn.ensemble import VotingClassifier\n",
    "#create a dictionary of the models\n",
    "estimators = [('lr', models_result[0]['best_param']), ('nb', models_result[1]['best_param']) #, ('xgb', xgb_best),\n",
    "#               ('knn', knn_best), ('dt', dt_best), ('svm', svm_best),\n",
    "#               ('nn', nn_best), ()'nb', nb_best)\n",
    "             ]\n",
    "#create our voting classifier, inputting our models\n",
    "ensemble = VotingClassifier(estimators, voting=\"hard\")"
   ]
  },
  {
   "cell_type": "code",
   "execution_count": null,
   "metadata": {},
   "outputs": [],
   "source": [
    "# ensemble.fit(data_lists[0], data_lists[1])"
   ]
  },
  {
   "cell_type": "code",
   "execution_count": null,
   "metadata": {},
   "outputs": [],
   "source": [
    "pred = ensemble.predict(data_lists[2])"
   ]
  },
  {
   "cell_type": "code",
   "execution_count": null,
   "metadata": {},
   "outputs": [],
   "source": [
    "evaluate_metrics_2d(y_pred=pred, y_test=data_lists[3])"
   ]
  }
 ],
 "metadata": {
  "kernelspec": {
   "display_name": "Python 3",
   "language": "python",
   "name": "python3"
  },
  "language_info": {
   "codemirror_mode": {
    "name": "ipython",
    "version": 3
   },
   "file_extension": ".py",
   "mimetype": "text/x-python",
   "name": "python",
   "nbconvert_exporter": "python",
   "pygments_lexer": "ipython3",
   "version": "3.7.4"
  }
 },
 "nbformat": 4,
 "nbformat_minor": 2
}
