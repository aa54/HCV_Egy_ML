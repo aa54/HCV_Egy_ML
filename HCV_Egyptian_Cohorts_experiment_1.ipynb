{
 "cells": [
  {
   "cell_type": "markdown",
   "metadata": {},
   "source": [
    "# Applying Machine Learning to a Hepatitis C Egyptian Cohort Dataset for Predicting the Disease Stage - Experiment 1"
   ]
  },
  {
   "cell_type": "markdown",
   "metadata": {},
   "source": [
    "### four-class prediction\n",
    "#### Predicting with multi-class variables (<font color=\"red\">F1=1, F2=2, F3=3, and F4=4</font>) with Age, BMI, AST1, ALT1, Plat and WBC"
   ]
  },
  {
   "cell_type": "code",
   "execution_count": 1,
   "metadata": {},
   "outputs": [],
   "source": [
    "import import_ipynb"
   ]
  },
  {
   "cell_type": "code",
   "execution_count": 2,
   "metadata": {},
   "outputs": [
    {
     "name": "stdout",
     "output_type": "stream",
     "text": [
      "importing Jupyter notebook from CommonUtilsHCV.ipynb\n"
     ]
    }
   ],
   "source": [
    "from CommonUtilsHCV import *"
   ]
  },
  {
   "cell_type": "code",
   "execution_count": null,
   "metadata": {},
   "outputs": [],
   "source": [
    "# # Algorithms\n",
    "# models = []\n",
    "# models.append(('LR', LogisticRegression(solver='liblinear', multi_class='ovr')))\n",
    "# models.append(('XGBOOST', XGBClassifier(max_depth=5, number_of_estimators=40, learning_rate=0.01, nthread=4)))\n",
    "# models.append(('KNN', KNeighborsClassifier(n_neighbors=5)))\n",
    "# models.append(('CART', DecisionTreeClassifier(criterion='gini', splitter='best', max_depth=3, \n",
    "#  min_samples_split=2, min_samples_leaf=1, min_weight_fraction_leaf=0.0, \n",
    "#  max_features=None, random_state=None, max_leaf_nodes=None)))\n",
    "# models.append(('NB', GaussianNB()))\n",
    "# models.append(('SVM', SVC(gamma='auto')))\n",
    "# models.append(('RF', RandomForestClassifier(max_depth=5,n_estimators=10,max_features=1)))\n",
    "# models.append(('NN', MLPClassifier()))"
   ]
  },
  {
   "cell_type": "code",
   "execution_count": 3,
   "metadata": {},
   "outputs": [
    {
     "name": "stdout",
     "output_type": "stream",
     "text": [
      "Aravind..\n"
     ]
    }
   ],
   "source": [
    "test_v(\"Aravind..\")"
   ]
  },
  {
   "cell_type": "markdown",
   "metadata": {},
   "source": [
    "#### Dataset downloaded from https://archive.ics.uci.edu/ml/machine-learning-databases/00503/"
   ]
  },
  {
   "cell_type": "code",
   "execution_count": 4,
   "metadata": {},
   "outputs": [],
   "source": [
    "data = pd.read_excel(r\"HCV_Egy_data_for_loading.xlsx\")"
   ]
  },
  {
   "cell_type": "code",
   "execution_count": 5,
   "metadata": {},
   "outputs": [
    {
     "name": "stdout",
     "output_type": "stream",
     "text": [
      "number of observations in data:   (1385, 29)\n"
     ]
    }
   ],
   "source": [
    "print(\"number of observations in data:\", \" \", data.shape)"
   ]
  },
  {
   "cell_type": "code",
   "execution_count": 6,
   "metadata": {},
   "outputs": [
    {
     "data": {
      "text/plain": [
       "1    336\n",
       "2    332\n",
       "3    355\n",
       "4    362\n",
       "Name: BHS, dtype: int64"
      ]
     },
     "execution_count": 6,
     "metadata": {},
     "output_type": "execute_result"
    }
   ],
   "source": [
    "data[\"BHS\"].value_counts(sort=0)"
   ]
  },
  {
   "cell_type": "code",
   "execution_count": 7,
   "metadata": {},
   "outputs": [],
   "source": [
    "# data_tmp = data.copy()\n",
    "# y = data_tmp[\"BHS\"]\n",
    "# X = data_tmp.loc[:, data_tmp.columns.isin([\"Age\",\"AST1\", \"ALT1\", \"Plat\", \"WBC\", \"BMI\"])]\n",
    "# X = scaler.fit_transform(X.to_numpy())"
   ]
  },
  {
   "cell_type": "code",
   "execution_count": 42,
   "metadata": {},
   "outputs": [],
   "source": [
    "# Split data for training and testing\n",
    "data_lists = []\n",
    "X,y = standard_scaler(dataframe=data)\n",
    "X_train, X_test, y_train, y_test = train_test_split(X, y, test_size=0.30, random_state=20)\n",
    "\n",
    "data_lists = [X_train, y_train, X_test, y_test]\n",
    "label_names = y_train.unique()"
   ]
  },
  {
   "cell_type": "code",
   "execution_count": 95,
   "metadata": {},
   "outputs": [],
   "source": [
    "def get_the_best_values_RandomForest(data_list, labels):\n",
    "    X_trn = data_list[0]\n",
    "    y_trn = data_list[1]\n",
    "    X_tst = data_list[2]\n",
    "    y_tst = data_list[3]\n",
    "    param_grid = {'n_estimators': range(1, 50, 1),\n",
    "                  'max_features': ['auto', 'sqrt', 'log2'],\n",
    "                  'max_depth' : [4,5,6,7,8],\n",
    "                  'criterion' :['gini', 'entropy'],\n",
    "                  'oob_score': [True]\n",
    "                 }\n",
    "    rfc = RandomForestClassifier()\n",
    "    clf = GridSearchCV(estimator=rfc, param_grid=param_grid)\n",
    "    clf.fit(X_trn, y_trn)\n",
    "    y_pred = clf.predict(X_tst)\n",
    "    print(\"Accuracy Score: {}\".format(accuracy_score(y_test, y_pred)))\n",
    "    print(\"*********** Calculating Evaluation Metrics ********\")\n",
    "    evaluate_metrics(y_test=y_tst, y_pred=y_pred)\n",
    "    print(\"*********** ****************** ********************\")\n",
    "    \n",
    "    plot_fucntion(y_tst,y_pred=y_pred ,label_names=labels)\n",
    "#     best_parameter = best_model.best_params_\n",
    "#     return clf"
   ]
  },
  {
   "cell_type": "code",
   "execution_count": 96,
   "metadata": {},
   "outputs": [],
   "source": [
    "def evaluate_metrics(y_test, y_pred):\n",
    "#     print(\"Model:\", '%s' % (name))    \n",
    "#   Confusion matrix, Accuracy, sensitivity and specificity\n",
    "    cm1 = confusion_matrix(y_test, y_pred)\n",
    "    print('Confusion Matrix : \\n', cm1)\n",
    "     \n",
    "#     total1=sum(sum(cm1))\n",
    "#    \n",
    "\n",
    "#   from confusion matrix calculate accuracy, sensitivity, specificity and auc_roc\n",
    "#     accuracy1=(cm1[0,0]+cm1[1,1])/total1\n",
    "#     print ('Accuracy : ', accuracy1)\n",
    "#     sensitivity1 = cm1[0,0]/(cm1[0,0]+cm1[0,1])\n",
    "#     print('Sensitivity : ', sensitivity1 )\n",
    "#     specificity1 = cm1[1,1]/(cm1[1,0]+cm1[1,1])\n",
    "#     print('Specificity : ', specificity1)"
   ]
  },
  {
   "cell_type": "code",
   "execution_count": 97,
   "metadata": {},
   "outputs": [],
   "source": [
    "import matplotlib.pyplot as plt\n",
    "def plot_confusion_matrix(cm, classes,\n",
    "                          normalize=False,\n",
    "                          title='Confusion matrix',\n",
    "                          cmap=plt.cm.Blues):\n",
    "    \"\"\"\n",
    "    This function prints and plots the confusion matrix.\n",
    "    Normalization can be applied by setting `normalize=True`.\n",
    "    \"\"\"\n",
    "    if normalize:\n",
    "        cm = cm.astype('float') / cm.sum(axis=1)[:, np.newaxis]\n",
    "        print(\"Normalized confusion matrix\")\n",
    "    else:\n",
    "        print('Confusion matrix, without normalization')\n",
    "\n",
    "    # print(cm)\n",
    "\n",
    "    plt.imshow(cm, interpolation='nearest', cmap=cmap)\n",
    "    plt.title(title)\n",
    "    plt.colorbar()\n",
    "    tick_marks = np.arange(len(classes))\n",
    "    plt.xticks(tick_marks, classes, rotation=90)\n",
    "    plt.yticks(tick_marks, classes)\n",
    "\n",
    "    fmt = '.2f' if normalize else 'd'\n",
    "    thresh = cm.max() / 2.\n",
    "    for i, j in itertools.product(range(cm.shape[0]), range(cm.shape[1])):\n",
    "        plt.text(j, i, format(cm[i, j], fmt),\n",
    "                 horizontalalignment=\"center\",\n",
    "                 verticalalignment=\"center\", # added this\n",
    "                 color=\"white\" if cm[i, j] > thresh else \"black\")\n",
    "\n",
    "    plt.tight_layout()\n",
    "    plt.ylabel('True label')\n",
    "    plt.xlabel('Predicted label')"
   ]
  },
  {
   "cell_type": "code",
   "execution_count": 98,
   "metadata": {},
   "outputs": [],
   "source": [
    "# y_pred = model.predict(x_test);\n",
    "import itertools\n",
    "def plot_fucntion(y_test, y_pred, label_names):\n",
    "    cnf_matrix = cm1 = confusion_matrix(y_test, y_pred)\n",
    "\n",
    "    # Plot normalized confusion matrix\n",
    "    fig = plt.figure()\n",
    "    fig.set_size_inches(6, 4, forward=True)\n",
    "#     fig.set_size_inches(15, 10, forward=True)\n",
    "\n",
    "    #fig.align_labels()\n",
    "\n",
    "    # fig.subplots_adjust(left=0.0, right=1.0, bottom=0.0, top=1.0)\n",
    "    plot_confusion_matrix(cnf_matrix, classes=np.asarray(label_names), normalize=True,\n",
    "                          title='Normalized confusion matrix')\n"
   ]
  },
  {
   "cell_type": "code",
   "execution_count": 99,
   "metadata": {},
   "outputs": [
    {
     "name": "stdout",
     "output_type": "stream",
     "text": [
      "Accuracy Score: 0.24759615384615385\n",
      "*********** Calculating Evaluation Metrics ********\n",
      "Confusion Matrix : \n",
      " [[18 15  8 54]\n",
      " [15 11 14 58]\n",
      " [29 15 11 64]\n",
      " [16 12 13 63]]\n",
      "*********** ****************** ********************\n",
      "Normalized confusion matrix\n"
     ]
    },
    {
     "data": {
      "image/png": "[encoded data removed]",
      "text/plain": [
       "<Figure size 432x288 with 2 Axes>"
      ]
     },
     "metadata": {
      "needs_background": "light"
     },
     "output_type": "display_data"
    }
   ],
   "source": [
    "get_the_best_values_RandomForest(data_list=data_lists, labels=label_names)"
   ]
  },
  {
   "cell_type": "code",
   "execution_count": null,
   "metadata": {},
   "outputs": [],
   "source": [
    "# evaluate each model in turn\n",
    "for name, model in models:     \n",
    "#    Make predictions on validation dataset  \n",
    "     model.fit(X_train, y_train)\n",
    "     y_pred = model.predict(X_test)    \n",
    "\n",
    "#    Evaluate predictions\n",
    "     print(\"Model:\", '%s' % (name))    \n",
    "    \n",
    "#    Confusion matrix, Accuracy, sensitivity and specificity\n",
    "     cm1 = confusion_matrix(y_test, y_pred)\n",
    "     print('Confusion Matrix : \\n', cm1)\n",
    "     \n",
    "     total1=sum(sum(cm1))\n",
    "#    from confusion matrix calculate accuracy, sensitivity, specificity and auc_roc\n",
    "     accuracy1=(cm1[0,0]+cm1[1,1])/total1\n",
    "     print ('Accuracy : ', accuracy1)\n",
    "     sensitivity1 = cm1[0,0]/(cm1[0,0]+cm1[0,1])\n",
    "     print('Sensitivity : ', sensitivity1 )\n",
    "     specificity1 = cm1[1,1]/(cm1[1,0]+cm1[1,1])\n",
    "     print('Specificity : ', specificity1)\n",
    "     #roc1 = roc_auc_score(y_test, y_pred)\n",
    "     #print('ROC AUC score : ', roc1)\n",
    "     print(\"\\n\") "
   ]
  }
 ],
 "metadata": {
  "kernelspec": {
   "display_name": "Python 3",
   "language": "python",
   "name": "python3"
  },
  "language_info": {
   "codemirror_mode": {
    "name": "ipython",
    "version": 3
   },
   "file_extension": ".py",
   "mimetype": "text/x-python",
   "name": "python",
   "nbconvert_exporter": "python",
   "pygments_lexer": "ipython3",
   "version": "3.7.4"
  }
 },
 "nbformat": 4,
 "nbformat_minor": 2
}
